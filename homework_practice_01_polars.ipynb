{
  "cells": [
    {
      "cell_type": "markdown",
      "metadata": {
        "id": "qT4lcRBz3JKd"
      },
      "source": [
        "## Машинное обучение 1, ПМИ ФКН ВШЭ\n",
        "\n",
        "## Практическое домашнее задание 1\n",
        "\n",
        "### Общая информация\n",
        "\n",
        "Дата выдачи: 25.09.2024\n",
        "\n",
        "Мягкий дедлайн: 23:59MSK 06.10.2024\n",
        "\n",
        "Жесткий дедлайн: 23:59MSK 10.10.2024"
      ]
    },
    {
      "cell_type": "markdown",
      "metadata": {
        "id": "UzmZAvdT3JKf"
      },
      "source": [
        "### О задании\n",
        "\n",
        "Задание состоит из двух разделов, посвященных работе с табличными данными с помощью библиотеки `polars` и визуализации с помощью `matplotlib`. В первом разделе вам предстоит выполнить базовые задания с помощью вышеуказанных библиотек, а во втором распределить студентов по курсам. Баллы даются за выполнение отдельных пунктов. Задачи в рамках одного раздела рекомендуется решать в том порядке, в котором они даны в задании.\n",
        "\n",
        "Задание направлено на освоение jupyter notebook (будет использоваться в дальнейших заданиях), библиотек polars и matplotlib.\n",
        "\n",
        "### Оценивание и штрафы\n",
        "Каждая из задач имеет определенную «стоимость» (указана в скобках около задачи). Максимально допустимая оценка за работу — 10 баллов без учёта бонусов. Сдавать задание после жёсткого дедлайна нельзя.\n",
        "\n",
        "Задание выполняется самостоятельно. «Похожие» решения считаются плагиатом и все задействованные студенты (в том числе те, у кого списали) не могут получить за него больше 0 баллов (подробнее о плагиате см. на странице курса). Если вы нашли решение какого-то из заданий (или его часть) в открытом источнике, необходимо указать ссылку на этот источник (скорее всего вы будете не единственным, кто это нашел, поэтому чтобы исключить подозрение в плагиате, необходима ссылка на источник).\n",
        "\n",
        "### Формат сдачи\n",
        "Задания сдаются через систему Anytask. Инвайт можно получить у семинариста или ассистента. Присылать необходимо ноутбук с выполненным заданием. Сам ноутбук называйте в формате `homework-practice-01-polars-Username.ipynb`, где Username — ваша фамилия.\n",
        "\n",
        "Для удобства проверки самостоятельно посчитайте свою максимальную оценку (исходя из набора решенных задач) и укажите ниже.\n",
        "\n",
        "Оценка: xx."
      ]
    },
    {
      "cell_type": "markdown",
      "metadata": {
        "id": "bQMq9hxz3JKg"
      },
      "source": [
        "## 0. Введение"
      ]
    },
    {
      "cell_type": "markdown",
      "metadata": {
        "id": "rDm3xw-Y3JKg"
      },
      "source": [
        "Сейчас мы находимся в jupyter-ноутбуке (или ipython-ноутбуке). Это удобная среда для написания кода, проведения экспериментов, изучения данных, построения визуализаций и других нужд, не связанных с написанием production-кода.\n",
        "\n",
        "Ноутбук состоит из ячеек, каждая из которых может быть либо ячейкой с кодом, либо ячейкой с текстом размеченным и неразмеченным. Текст поддерживает markdown-разметку и формулы в Latex.\n",
        "\n",
        "Для работы с содержимым ячейки используется *режим редактирования* (*Edit mode*, включается нажатием клавиши **Enter** после выбора ячейки), а для навигации между ячейками искользуется *командный режим* (*Command mode*, включается нажатием клавиши **Esc**). Тип ячейки можно задать в командном режиме либо с помощью горячих клавиш (**y** to code, **m** to markdown, **r** to edit raw text), либо в меню *Cell -> Cell type*.\n",
        "\n",
        "После заполнения ячейки нужно нажать *Shift + Enter*, эта команда обработает содержимое ячейки: проинтерпретирует код или сверстает размеченный текст."
      ]
    },
    {
      "cell_type": "code",
      "execution_count": 1,
      "metadata": {
        "colab": {
          "base_uri": "https://localhost:8080/"
        },
        "id": "OEmmbrlv3JKh",
        "outputId": "26c63968-b045-473e-f802-f8cf78c09218"
      },
      "outputs": [
        {
          "data": {
            "text/plain": [
              "4"
            ]
          },
          "execution_count": 1,
          "metadata": {},
          "output_type": "execute_result"
        }
      ],
      "source": [
        "# ячейка с кодом, при выполнении которой появится output\n",
        "2 + 2"
      ]
    },
    {
      "cell_type": "markdown",
      "metadata": {
        "id": "pHuI1gxN3JKi"
      },
      "source": [
        "Ячейка с неразмеченыным текстом."
      ]
    },
    {
      "cell_type": "markdown",
      "metadata": {
        "id": "7Od1jM9q3JKi"
      },
      "source": [
        "Попробуйте создать свои ячейки, написать какой-нибудь код и текст какой-нибудь формулой."
      ]
    },
    {
      "cell_type": "code",
      "execution_count": 2,
      "metadata": {
        "id": "bmR2-3Ut3JKi"
      },
      "outputs": [],
      "source": [
        "# your code"
      ]
    },
    {
      "cell_type": "markdown",
      "metadata": {
        "id": "eNSsZ84J3JKj"
      },
      "source": [
        "[Здесь](https://athena.brynmawr.edu/jupyter/hub/dblank/public/Jupyter%20Notebook%20Users%20Manual.ipynb) находится <s>не</s>большая заметка о используемом языке разметки Markdown. Он позволяет:\n",
        "\n",
        "0. Составлять упорядоченные списки\n",
        "1. Выделять *текст* <s>при</s> **необходимости**\n",
        "2. Добавлять [ссылки](http://imgs.xkcd.com/comics/the_universal_label.png)\n",
        "\n",
        "\n",
        "* Составлять неупорядоченные списки\n",
        "\n",
        "Делать вставки с помощью LaTex:\n",
        "    \n",
        "$\n",
        "\\left\\{\n",
        "\\begin{array}{ll}\n",
        "x = 16 \\sin^3 (t) \\\\\n",
        "y = 13 \\cos (t) - 5 \\cos (2t) - 2 \\cos (3t) - \\cos (4t) \\\\\n",
        "t \\in [0, 2 \\pi]\n",
        "\\end{array}\n",
        "\\right.$"
      ]
    },
    {
      "cell_type": "markdown",
      "metadata": {
        "id": "lmR9WkMh3JKj"
      },
      "source": [
        "А ещё можно вставлять картинки, или гифки, или что захотите:\n",
        "\n",
        "<img src=\"https://i.imgur.com/k5df8lX.gif\" width=\"400px\">\n",
        "\n"
      ]
    },
    {
      "cell_type": "markdown",
      "metadata": {
        "id": "dPLYl66y3JKj"
      },
      "source": [
        "### Google Colab"
      ]
    },
    {
      "cell_type": "markdown",
      "metadata": {
        "id": "A4lqG21G3JKj"
      },
      "source": [
        "Что за колаб?\n",
        "\n",
        "**Google Colab (Colaboratory)** это **Jupyter Notebook + Cloud + Google Drive.**\n",
        "\n",
        "Компания Google предоставляет возможность бесплатно запускать ноутбуки (предварительно загрузив их на свой гугл-диск) прямо в облаке. При этом вам не требуется установка никаких пакетов на свою машину, а работать можно прямиком из браузера. Вот ссылка:"
      ]
    },
    {
      "cell_type": "markdown",
      "metadata": {
        "id": "79bVOFY_3JKj"
      },
      "source": [
        "https://colab.research.google.com"
      ]
    },
    {
      "cell_type": "markdown",
      "metadata": {
        "id": "LnMoUH2P3JKj"
      },
      "source": [
        "При использовании вы увидите много сходств с jupyter ноутбуком. Одним из преимуществ является доступность GPU, соответствующую опцию можно активировать в настройках сервиса. При желании вы сможете найти в интернете много туториалов по использованию или разобраться самостоятельно =)"
      ]
    },
    {
      "cell_type": "markdown",
      "metadata": {
        "id": "iAb44N3VjD11"
      },
      "source": [
        "### Kaggle\n",
        "\n",
        "Альтернативой является **Kaggle**, он же площадка для самых разных соревнований по машинному обучению\n",
        "\n",
        "Он, как и колаб, предоставляет бесплатный GPU, и даже не один, с чётким лимитом в 30 часов в неделю (colab может его внезапно отобрать, kaggle - нет) более мощные CPU с большим числом ядер, и больше Гб ОЗУ (раз так в 2.5)\n",
        "\n",
        "https://www.kaggle.com\n",
        "\n",
        "К сожалению мир не идеален, недостатки следующие:\n",
        "- необходимость загружать датасеты через специальную кнопочку\n",
        "- невозможность использовать свои скрипты и модули :(\n",
        "- нужно тыкать техподдержку, чтобы создать аккаунт из России"
      ]
    },
    {
      "cell_type": "markdown",
      "metadata": {
        "id": "91bWX9jd3JKk"
      },
      "source": [
        "## 1. Табличные данные и Polars"
      ]
    },
    {
      "cell_type": "markdown",
      "metadata": {
        "id": "Z9L3rKBm3JKk"
      },
      "source": [
        "Эта версия домашки предполагает, что вы уже являетесь уверенным пользователем `pandas` и знакомы с датафреймами, как они устроены и как ими манипулировать. Библиотека `polars` основана на тех же концептах.\n",
        "\n",
        "Главные достоинства, которые чуть позже продемонстрируем:\n",
        "- он написан на Rust, поэтому почти все операции в нём выполняются значительно быстрее, есть распараллеливание из коробки, автоматическая оптимизация запросов и пр\n",
        "- он позволяет работать с данными, которые не помещаются в оперативку, с этим поможет `pl.LazyFrame` и streaming\n",
        "- конечно же имеются дополнительные функции, которых в `pandas` нет, но очень хочется, например агрегации с расширяющимся окном, произвольные оконные функции и прочее, для этого есть крайне гибкая штука `pl.Expr`\n",
        "\n",
        "Подробнее можете прочитать на [любом](https://habr.com/ru/articles/710240/) [ресурсе](https://realpython.com/polars-python/), [посвящённом](https://blog.jetbrains.com/pycharm/2024/07/polars-vs-pandas/) [`polars`](https://habr.com/ru/companies/spectr/articles/738766/)\n",
        "\n",
        "В этой части потребуется выполнить несколько небольших заданий. Можно пойти двумя путями: сначала изучить материалы, а потом приступить к заданиям, или же разбираться \"по ходу\". Выбирайте сами\n",
        "\n",
        "Если не понятно, как вызывать конкретный метод, обратитесь к материалам ниже. Имейте в виду, что синтаксис `polars` отличается от привычного нампаевского.\n",
        "Скорее всего все ваши самые извращённые фантазии уже как-то реализованы в `polars`, поэтому читайте внимательно. Ну и конечно гуглить не запрещено, но желательно прикладывать источник\n",
        "\n",
        "Материалы:\n",
        "1. [Getting started](https://docs.pola.rs/user-guide/getting-started/#reading-writing) из официального руководства\n",
        "2. [Документация](https://docs.pola.rs/api/python/stable/reference/index.html) со всем необходимым\n",
        "3. [Модификация для Data Science](https://polars-ds-extension.readthedocs.io/en/latest/index.html), вам скорее всего не понадобится в данном задании, но имейте в виду\n",
        "\n",
        "Многие из заданий можно выполнить несколькими способами. Не существуют единственно верного, но попробуйте максимально задействовать арсенал polars и ориентируйтесь на простоту и понятность вашего кода. Мы не будем подсказывать, что нужно использовать для решения конкретной задачи, попробуйте находить необходимый функционал сами (название метода чаще всего очевидно)"
      ]
    },
    {
      "cell_type": "code",
      "execution_count": 1,
      "metadata": {
        "id": "TwYQ-X_Q-m2A"
      },
      "outputs": [],
      "source": [
        "# поларс относительно молодой, имейте в виду, что что-то может сломаться, если будете менять версию\n",
        "!pip install -qU hvplot xlsx2csv polars==1.5.0"
      ]
    },
    {
      "cell_type": "code",
      "execution_count": 2,
      "metadata": {
        "id": "72smvZpD3JKk"
      },
      "outputs": [],
      "source": [
        "import polars as pl"
      ]
    },
    {
      "cell_type": "markdown",
      "metadata": {
        "id": "hX2zRkMI3JKk"
      },
      "source": [
        "Скачаем данные:"
      ]
    },
    {
      "cell_type": "code",
      "execution_count": 3,
      "metadata": {
        "id": "a4wqrhEA3JKk"
      },
      "outputs": [],
      "source": [
        "!wget  -O 'end_seminar.xlsx' -q 'https://www.dropbox.com/s/f4rm8sjc3v99p0m/_end_seminar.xlsx?dl=0'"
      ]
    },
    {
      "cell_type": "markdown",
      "metadata": {
        "id": "joackhzP3JKl"
      },
      "source": [
        "Для пользователей Windows: скачайте файл самостоятельно и поместите его в папку с тетрадкой. Или попробуйте один из следующих вариантов:"
      ]
    },
    {
      "cell_type": "code",
      "execution_count": 4,
      "metadata": {
        "id": "yhc9NUeE3JKl"
      },
      "outputs": [],
      "source": [
        "# !powershell iwr -outf somefile https://somesite/somefile"
      ]
    },
    {
      "cell_type": "code",
      "execution_count": 7,
      "metadata": {
        "id": "FxbRPi183JKl"
      },
      "outputs": [],
      "source": [
        "# !pip install wget\n",
        "# import wget\n",
        "# wget.download('https://dropbox.com/s/f4rm8sjc3v99p0m/_end_seminar.xlsx?dl=1', 'end_seminar.xlsx')"
      ]
    },
    {
      "cell_type": "markdown",
      "metadata": {
        "id": "5hIwLXz43JKl"
      },
      "source": [
        "### 📌 **Обязательно прочитайте блок ниже**\n",
        "\n",
        "> Пандасом и нампаем пользоваться неельзяя... Совсем\n",
        "\n",
        "> В первой части задания (до раздела \"Распределение студентов по курсам\") использование циклов запрещается и повлечет за собой снижение оценки. Во второй уже можно, но с оговорками, о чём ниже\n",
        "\n",
        "> Циклами в данном случае считается `for`, `while` и map-методы `polars`, где можно использовать лямбда-функцию. Главным образом `map_elements` и его производные.\n",
        "И как правило, всё то, что не умеет делать `pl.LazyFrame` - список [здесь](https://docs.pola.rs/api/python/stable/reference/lazyframe/index.html). Мотивация следующая - используя встроенные функции и методы, `polars` может оптимизировать ваш запрос и провести все нужные манипуляции, прежде чем сериализовать и вывести ответ (за некоторыми исключениями), поэтому важно научиться с этим управляться\n",
        "\n",
        "> Чтобы сделать выбор `polars` осмысленным, мы немножко модифицируем исходный датасет. Он будет больше в несколько раз и может не влезть в память, если у вас меньше 8 Гб, а с учётом преобразований может потребоваться до 64 Гб! Не пренебрегайте возможностями `pl.LazyFrame`. Его использование не обязательно, но может сильно облегчить вам жизнь\n",
        "\n",
        "> Трансформировать датасет `df` можно, как только это потребуется по условию (таких пунктов всего 2), на всякий случай поставим значок 🔄\n",
        "\n",
        "> Если небрежно обращаться с методами `polars`, вы рискуете крашнуть ядро, взорвать компутер, потерять рассудок... Если вдруг у вас есть тачка или хотите подебажить на исходном датасете, то пожалуйста, но помните про условия выше\n",
        "\n",
        "> Гарантируется, что задание можно выполнить, имея лишь ресурсы Google Colab (бесплатные), удачи ( ͡° ͜ʖ ͡°)"
      ]
    },
    {
      "cell_type": "markdown",
      "metadata": {
        "id": "das_ZBWy3JKl"
      },
      "source": [
        "Для каждой задачи из этого раздела вы должны написать код для получения ответа, а также дать текстовый ответ, если он предполагается.\n",
        "\n",
        "На некоторые вопросы вы можете получить путём пристального взгляда на таблицу, но это не будет засчитываться. Вы в любом случае должны получить ответ с помощью кода."
      ]
    },
    {
      "cell_type": "markdown",
      "metadata": {
        "id": "7L9UmKvHSBhk"
      },
      "source": [
        "### 🐻 Бонус polars. [3 балла]\n",
        "Бонус за использование `polars` равен вашей оценке за дз, умноженной на коэффициент 1.3, поэтому даже если сделали не всё, не отчаивайтесь)"
      ]
    },
    {
      "cell_type": "markdown",
      "metadata": {
        "id": "KH2B5XPBDlgp"
      },
      "source": [
        "#### 0. Ещё пара красивых слов"
      ]
    },
    {
      "cell_type": "markdown",
      "metadata": {
        "id": "-pO9LsL5Dsds"
      },
      "source": [
        "Первые несколько манипуляций мы сделаем за вас, а заодно поясним, в чём тут нюанс"
      ]
    },
    {
      "cell_type": "code",
      "execution_count": 3,
      "metadata": {
        "colab": {
          "base_uri": "https://localhost:8080/"
        },
        "id": "Ee0QXmptDrX7",
        "outputId": "f4b47c31-178e-44ff-859e-07261e8f8112"
      },
      "outputs": [
        {
          "name": "stdout",
          "output_type": "stream",
          "text": [
            "361 rows\n",
            "0.14587879180908203 mb\n"
          ]
        }
      ],
      "source": [
        "# читаем датафрейм\n",
        "initial_df = pl.read_excel(\"end_seminar.xlsx\", engine=\"xlsx2csv\")\n",
        "print(initial_df.shape[0], \"rows\")\n",
        "print(initial_df.estimated_size(\"mb\"), \"mb\")"
      ]
    },
    {
      "cell_type": "markdown",
      "metadata": {
        "id": "P0nMQNXCD1IO"
      },
      "source": [
        "Как видим, он достаточно маленький. С такими объёмами выбор библиотеки это чисто вкусовщина. Давайте немного поднимем ставки"
      ]
    },
    {
      "cell_type": "code",
      "execution_count": 4,
      "metadata": {
        "id": "PzBRfWY1ECOV"
      },
      "outputs": [],
      "source": [
        "def repeat_df(df: pl.DataFrame | pl.LazyFrame, n: int = 2) -> pl.LazyFrame:\n",
        "    return (\n",
        "        df.lazy()\n",
        "        .select(pl.col(\"timestamp\").unique().sort().repeat_by(n).flatten())\n",
        "        .join(df.lazy(), on=\"timestamp\", how=\"left\")\n",
        "    )"
      ]
    },
    {
      "cell_type": "markdown",
      "metadata": {
        "id": "loouiViPEHGJ"
      },
      "source": [
        "Для работы с датафреймами, которые в память не влезают, нам понадобится объект `pl.LazyFrame`. Он представляет из себя схему выполнения вашего запроса, который оптимизируется, бьётся на батчи и параллелится под капотом через StreamingAPI, что для нас просто идеально. Перевести объект туда можно через метод `lazy`, обратно через `collect`. Учтите, что `streaming=True` работает не со всеми операциями, применяйте с умом, это можно проверить через `pl.LazyFrame.explain(streaming=True)`"
      ]
    },
    {
      "cell_type": "code",
      "execution_count": 5,
      "metadata": {
        "colab": {
          "base_uri": "https://localhost:8080/"
        },
        "id": "OvTbmiSjEEfA",
        "outputId": "1ad142a4-6953-444f-c56d-c5c7b303ba16"
      },
      "outputs": [
        {
          "name": "stdout",
          "output_type": "stream",
          "text": [
            "Schema\n",
            "LEFT JOIN:\n",
            "LEFT PLAN ON: [col(\"timestamp\")]\n",
            "   SELECT [col(\"timestamp\").unique().sort(asc).repeat_by([dyn int: 2]).explode()] FROM\n",
            "    STREAMING:\n",
            "      DF [\"timestamp\", \"id\", \"rating\", \"18_group\"]; PROJECT 1/16 COLUMNS; SELECTION: None\n",
            "RIGHT PLAN ON: [col(\"timestamp\")]\n",
            "  DF [\"timestamp\", \"id\", \"rating\", \"18_group\"]; PROJECT */16 COLUMNS; SELECTION: None\n",
            "END LEFT JOIN\n"
          ]
        }
      ],
      "source": [
        "repeat_n = 2\n",
        "\n",
        "repeated_df = repeat_df(initial_df, repeat_n)\n",
        "print(\"Schema\")\n",
        "print(repeated_df.explain(streaming=True, optimized=True))"
      ]
    },
    {
      "cell_type": "code",
      "execution_count": 7,
      "metadata": {
        "colab": {
          "base_uri": "https://localhost:8080/"
        },
        "id": "7geBTZI6F691",
        "outputId": "5496fc07-de7f-4e3c-90df-19e52d89a38b"
      },
      "outputs": [
        {
          "name": "stdout",
          "output_type": "stream",
          "text": [
            "722 rows\n",
            "0.2917900085449219 mb\n"
          ]
        }
      ],
      "source": [
        "# как видим, повторы работают\n",
        "repeated_df = repeated_df.collect()\n",
        "assert repeated_df.shape[0] == initial_df.shape[0] * repeat_n\n",
        "print(repeated_df.shape[0], \"rows\")\n",
        "print(repeated_df.estimated_size(\"mb\"), \"mb\")"
      ]
    },
    {
      "cell_type": "markdown",
      "metadata": {
        "id": "00wHctZJGe8s"
      },
      "source": [
        "Теперь ещё интереснее. Если бы наш датасет был не в 2 раза больше, а в 100000 раз, что бы мы делали? К счастью для нас, поларс может уместить 300кк строк всего лишь в 512Мб, и это даже не прикол, но работать с этим придётся немного иначе"
      ]
    },
    {
      "cell_type": "code",
      "execution_count": 6,
      "metadata": {
        "colab": {
          "base_uri": "https://localhost:8080/"
        },
        "id": "jm93pikEGqJi",
        "outputId": "a7989d34-b82e-40fc-eb76-2a2417866c0c"
      },
      "outputs": [
        {
          "name": "stdout",
          "output_type": "stream",
          "text": [
            "14.245975762605667 gb\n"
          ]
        }
      ],
      "source": [
        "N = 100000\n",
        "\n",
        "df = repeat_df(initial_df, N)\n",
        "print(initial_df.estimated_size(\"gb\") * N, \"gb\")"
      ]
    },
    {
      "cell_type": "markdown",
      "metadata": {
        "id": "MGMtuNEiG-xH"
      },
      "source": [
        "Поэтому даже такая тривиальная задача, как подсчёт строк становится уже не такой простой. Про это и будет дз"
      ]
    },
    {
      "cell_type": "code",
      "execution_count": 7,
      "metadata": {
        "colab": {
          "base_uri": "https://localhost:8080/"
        },
        "id": "pKo9lSvnHlgW",
        "outputId": "3a67cf71-3398-43d8-c3a4-302102bc9411"
      },
      "outputs": [
        {
          "name": "stdout",
          "output_type": "stream",
          "text": [
            "ой, не получилось...\n"
          ]
        }
      ],
      "source": [
        "try:\n",
        "    print(df.shape[0], \"rows\")\n",
        "except AttributeError:\n",
        "    print(\"ой, не получилось...\")\n",
        "\n",
        "# df.collect().shape[0] # тоже можно, если влезет\n",
        "# len(df.collect().to_pandas()) # а такое может крашнуть ядро, попробуйте, хехе..."
      ]
    },
    {
      "cell_type": "code",
      "execution_count": 8,
      "metadata": {
        "colab": {
          "base_uri": "https://localhost:8080/"
        },
        "id": "mt-cWy3LHhvR",
        "outputId": "3d364e68-de5a-4d9a-f3e6-1f5b348504eb"
      },
      "outputs": [
        {
          "name": "stdout",
          "output_type": "stream",
          "text": [
            "36100000 rows\n"
          ]
        }
      ],
      "source": [
        "def lazy_len(df: pl.LazyFrame) -> int:\n",
        "    return df.select(pl.len()).collect().item()\n",
        "\n",
        "\n",
        "rows = lazy_len(df)  # намного экономнее, потому что оптимизировано под капотом\n",
        "assert rows == initial_df.shape[0] * N\n",
        "print(rows, \"rows\")"
      ]
    },
    {
      "cell_type": "markdown",
      "metadata": {
        "id": "EVEQn0fwc6_v"
      },
      "source": [
        "Далее нужно работать с увеличенным датафреймом `df`"
      ]
    },
    {
      "cell_type": "markdown",
      "metadata": {
        "id": "JZd3QSTo3JKl"
      },
      "source": [
        "#### 1. [0.5 баллов] Выведите 3 последних строки\n",
        "\n",
        "Посмотрите на данные и скажите, что они из себя представляют, сколько в таблице строк, какие столбцы? (на это не надо отвечать, просто подумайте об этом)"
      ]
    },
    {
      "cell_type": "code",
      "execution_count": 11,
      "metadata": {
        "colab": {
          "base_uri": "https://localhost:8080/",
          "height": 305
        },
        "id": "FArd5QGESdyO",
        "outputId": "8f01d152-c621-4e53-d6b6-d014a4aa07f0"
      },
      "outputs": [
        {
          "data": {
            "text/html": [
              "<div><style>\n",
              ".dataframe > thead > tr,\n",
              ".dataframe > tbody > tr {\n",
              "  text-align: right;\n",
              "  white-space: pre-wrap;\n",
              "}\n",
              "</style>\n",
              "<small>shape: (3, 16)</small><table border=\"1\" class=\"dataframe\"><thead><tr><th>timestamp</th><th>id</th><th>rating</th><th>18_group</th><th>is_mi</th><th>fall_1</th><th>fall_2</th><th>fall_3</th><th>spring_1</th><th>spring_2</th><th>spring_3</th><th>is_first_time</th><th>percentile</th><th>17_group</th><th>blended</th><th>is_ml_student</th></tr><tr><td>str</td><td>str</td><td>i64</td><td>i64</td><td>i64</td><td>str</td><td>str</td><td>str</td><td>str</td><td>str</td><td>str</td><td>str</td><td>f64</td><td>str</td><td>str</td><td>bool</td></tr></thead><tbody><tr><td>&quot;2020-05-24 01:23:31&quot;</td><td>&quot;9d19b0d5f4fc8d7edc2258406f872c…</td><td>695</td><td>188</td><td>null</td><td>&quot;Безопасность компьютерных сист…</td><td>&quot;Язык SQL&quot;</td><td>&quot;Высокопроизводительные вычисле…</td><td>&quot;Компьютерные сети&quot;</td><td>&quot;Дискретная оптимизация&quot;</td><td>&quot;Численные методы&quot;</td><td>null</td><td>0.197309</td><td>null</td><td>null</td><td>null</td></tr><tr><td>&quot;2020-05-24 01:23:31&quot;</td><td>&quot;9d19b0d5f4fc8d7edc2258406f872c…</td><td>695</td><td>188</td><td>null</td><td>&quot;Безопасность компьютерных сист…</td><td>&quot;Язык SQL&quot;</td><td>&quot;Высокопроизводительные вычисле…</td><td>&quot;Компьютерные сети&quot;</td><td>&quot;Дискретная оптимизация&quot;</td><td>&quot;Численные методы&quot;</td><td>null</td><td>0.197309</td><td>null</td><td>null</td><td>null</td></tr><tr><td>&quot;2020-05-24 01:23:31&quot;</td><td>&quot;9d19b0d5f4fc8d7edc2258406f872c…</td><td>695</td><td>188</td><td>null</td><td>&quot;Безопасность компьютерных сист…</td><td>&quot;Язык SQL&quot;</td><td>&quot;Высокопроизводительные вычисле…</td><td>&quot;Компьютерные сети&quot;</td><td>&quot;Дискретная оптимизация&quot;</td><td>&quot;Численные методы&quot;</td><td>null</td><td>0.197309</td><td>null</td><td>null</td><td>null</td></tr></tbody></table></div>"
            ],
            "text/plain": [
              "shape: (3, 16)\n",
              "┌─────────────┬─────────────┬────────┬──────────┬───┬────────────┬──────────┬─────────┬────────────┐\n",
              "│ timestamp   ┆ id          ┆ rating ┆ 18_group ┆ … ┆ percentile ┆ 17_group ┆ blended ┆ is_ml_stud │\n",
              "│ ---         ┆ ---         ┆ ---    ┆ ---      ┆   ┆ ---        ┆ ---      ┆ ---     ┆ ent        │\n",
              "│ str         ┆ str         ┆ i64    ┆ i64      ┆   ┆ f64        ┆ str      ┆ str     ┆ ---        │\n",
              "│             ┆             ┆        ┆          ┆   ┆            ┆          ┆         ┆ bool       │\n",
              "╞═════════════╪═════════════╪════════╪══════════╪═══╪════════════╪══════════╪═════════╪════════════╡\n",
              "│ 2020-05-24  ┆ 9d19b0d5f4f ┆ 695    ┆ 188      ┆ … ┆ 0.197309   ┆ null     ┆ null    ┆ null       │\n",
              "│ 01:23:31    ┆ c8d7edc2258 ┆        ┆          ┆   ┆            ┆          ┆         ┆            │\n",
              "│             ┆ 406f872c…   ┆        ┆          ┆   ┆            ┆          ┆         ┆            │\n",
              "│ 2020-05-24  ┆ 9d19b0d5f4f ┆ 695    ┆ 188      ┆ … ┆ 0.197309   ┆ null     ┆ null    ┆ null       │\n",
              "│ 01:23:31    ┆ c8d7edc2258 ┆        ┆          ┆   ┆            ┆          ┆         ┆            │\n",
              "│             ┆ 406f872c…   ┆        ┆          ┆   ┆            ┆          ┆         ┆            │\n",
              "│ 2020-05-24  ┆ 9d19b0d5f4f ┆ 695    ┆ 188      ┆ … ┆ 0.197309   ┆ null     ┆ null    ┆ null       │\n",
              "│ 01:23:31    ┆ c8d7edc2258 ┆        ┆          ┆   ┆            ┆          ┆         ┆            │\n",
              "│             ┆ 406f872c…   ┆        ┆          ┆   ┆            ┆          ┆         ┆            │\n",
              "└─────────────┴─────────────┴────────┴──────────┴───┴────────────┴──────────┴─────────┴────────────┘"
            ]
          },
          "execution_count": 11,
          "metadata": {},
          "output_type": "execute_result"
        }
      ],
      "source": [
        "df.tail(3).collect()"
      ]
    },
    {
      "cell_type": "code",
      "execution_count": 12,
      "metadata": {
        "colab": {
          "base_uri": "https://localhost:8080/"
        },
        "id": "a1x2QWSpBpdP",
        "outputId": "df5d39b2-65e4-4cec-aa4f-90c6f4c560ef"
      },
      "outputs": [
        {
          "data": {
            "text/plain": [
              "36100000"
            ]
          },
          "execution_count": 12,
          "metadata": {},
          "output_type": "execute_result"
        }
      ],
      "source": [
        "lazy_len(df)"
      ]
    },
    {
      "cell_type": "markdown",
      "metadata": {
        "id": "o74LHRbU3JKl"
      },
      "source": [
        "### Ответьте на вопросы:\n",
        "1. Сколько было уникальных пользователей из групп 18-го года набора, а сколько из групп 17-го года?"
      ]
    },
    {
      "cell_type": "code",
      "execution_count": null,
      "metadata": {
        "colab": {
          "base_uri": "https://localhost:8080/"
        },
        "id": "P8U67LmG3JKm",
        "outputId": "64780e69-1f9d-4c3d-f405-6996b089ef8e"
      },
      "outputs": [
        {
          "name": "stdout",
          "output_type": "stream",
          "text": [
            "213 уникальных пользователя из групп 18-го года набора\n",
            "134 уникальных пользователя из групп 17-го года набора\n"
          ]
        }
      ],
      "source": [
        "len_18 = lazy_len(df.filter(pl.col(\"18_group\").is_not_null()).select(pl.col(\"id\").unique()))\n",
        "len_17 = lazy_len(df.filter(pl.col(\"17_group\").is_not_null()).select(pl.col(\"id\").unique()))\n",
        "print(len_18, \"уникальных пользователя из групп 18-го года набора\")\n",
        "print(len_17, \"уникальных пользователя из групп 17-го года набора\")"
      ]
    },
    {
      "cell_type": "markdown",
      "metadata": {
        "id": "nKYih84LTNfe"
      },
      "source": [
        "2. Есть ли уникальные студенты с равными перцентилями?"
      ]
    },
    {
      "cell_type": "code",
      "execution_count": null,
      "metadata": {
        "colab": {
          "base_uri": "https://localhost:8080/",
          "height": 125
        },
        "id": "VlZxsjoO9964",
        "outputId": "45302102-64b6-403d-d7bf-18c7d6ea41a4"
      },
      "outputs": [
        {
          "data": {
            "text/html": [
              "<div><style>\n",
              ".dataframe > thead > tr,\n",
              ".dataframe > tbody > tr {\n",
              "  text-align: right;\n",
              "  white-space: pre-wrap;\n",
              "}\n",
              "</style>\n",
              "<small>shape: (1, 2)</small><table border=\"1\" class=\"dataframe\"><thead><tr><th>percentile</th><th>same_perc</th></tr><tr><td>f64</td><td>u32</td></tr></thead><tbody><tr><td>0.0</td><td>2</td></tr></tbody></table></div>"
            ],
            "text/plain": [
              "shape: (1, 2)\n",
              "┌────────────┬───────────┐\n",
              "│ percentile ┆ same_perc │\n",
              "│ ---        ┆ ---       │\n",
              "│ f64        ┆ u32       │\n",
              "╞════════════╪═══════════╡\n",
              "│ 0.0        ┆ 2         │\n",
              "└────────────┴───────────┘"
            ]
          },
          "execution_count": 18,
          "metadata": {},
          "output_type": "execute_result"
        }
      ],
      "source": [
        "df.filter(pl.col(\"percentile\").is_not_null()).group_by(\"percentile\").agg(pl.col(\"id\").n_unique().alias(\"same_perc\")).filter(pl.col(\"same_perc\") > 1).collect()"
      ]
    },
    {
      "cell_type": "markdown",
      "metadata": {
        "id": "dSkTB8KcDea8"
      },
      "source": [
        "Есть"
      ]
    },
    {
      "cell_type": "markdown",
      "metadata": {
        "id": "PObB1agk3JKm"
      },
      "source": [
        "#### 2. [0.5 балла] Есть ли в данных пропуски? В каких колонках? Сколько их в каждой из этих колонок?\n",
        "\n",
        "Уникальных или нет - не столь важно"
      ]
    },
    {
      "cell_type": "code",
      "execution_count": 15,
      "metadata": {
        "colab": {
          "base_uri": "https://localhost:8080/",
          "height": 125
        },
        "id": "VQoQF-L-bNU6",
        "outputId": "a438ff6d-af10-42f5-e975-f9523b7a66de"
      },
      "outputs": [
        {
          "data": {
            "text/html": [
              "<div><style>\n",
              ".dataframe > thead > tr,\n",
              ".dataframe > tbody > tr {\n",
              "  text-align: right;\n",
              "  white-space: pre-wrap;\n",
              "}\n",
              "</style>\n",
              "<small>shape: (1, 16)</small><table border=\"1\" class=\"dataframe\"><thead><tr><th>timestamp</th><th>id</th><th>rating</th><th>18_group</th><th>is_mi</th><th>fall_1</th><th>fall_2</th><th>fall_3</th><th>spring_1</th><th>spring_2</th><th>spring_3</th><th>is_first_time</th><th>percentile</th><th>17_group</th><th>blended</th><th>is_ml_student</th></tr><tr><td>u32</td><td>u32</td><td>u32</td><td>u32</td><td>u32</td><td>u32</td><td>u32</td><td>u32</td><td>u32</td><td>u32</td><td>u32</td><td>u32</td><td>u32</td><td>u32</td><td>u32</td><td>u32</td></tr></thead><tbody><tr><td>0</td><td>0</td><td>0</td><td>13800000</td><td>34300000</td><td>0</td><td>0</td><td>0</td><td>0</td><td>0</td><td>0</td><td>200000</td><td>0</td><td>22300000</td><td>22300000</td><td>30400000</td></tr></tbody></table></div>"
            ],
            "text/plain": [
              "shape: (1, 16)\n",
              "┌───────────┬─────┬────────┬──────────┬───┬────────────┬──────────┬──────────┬───────────────┐\n",
              "│ timestamp ┆ id  ┆ rating ┆ 18_group ┆ … ┆ percentile ┆ 17_group ┆ blended  ┆ is_ml_student │\n",
              "│ ---       ┆ --- ┆ ---    ┆ ---      ┆   ┆ ---        ┆ ---      ┆ ---      ┆ ---           │\n",
              "│ u32       ┆ u32 ┆ u32    ┆ u32      ┆   ┆ u32        ┆ u32      ┆ u32      ┆ u32           │\n",
              "╞═══════════╪═════╪════════╪══════════╪═══╪════════════╪══════════╪══════════╪═══════════════╡\n",
              "│ 0         ┆ 0   ┆ 0      ┆ 13800000 ┆ … ┆ 0          ┆ 22300000 ┆ 22300000 ┆ 30400000      │\n",
              "└───────────┴─────┴────────┴──────────┴───┴────────────┴──────────┴──────────┴───────────────┘"
            ]
          },
          "execution_count": 15,
          "metadata": {},
          "output_type": "execute_result"
        }
      ],
      "source": [
        "df.null_count().collect()"
      ]
    },
    {
      "cell_type": "markdown",
      "metadata": {
        "id": "H0gva-uD3JKm"
      },
      "source": [
        "🔄 Преобразуйте датасет - заполните пропуски пустой строкой для строковых колонок, нулём для числовых и False для булевых (постарайтесь избежать перечисления названий всех столбцов)."
      ]
    },
    {
      "cell_type": "code",
      "execution_count": 9,
      "metadata": {
        "id": "1WOBP3Yx3JKm"
      },
      "outputs": [],
      "source": [
        "df = df.with_columns(pl.col(pl.String)).fill_null(\" \")\n",
        "df = df.with_columns(pl.col(pl.Int64)).fill_null(0)\n",
        "df = df.with_columns(pl.col(pl.Boolean)).fill_null(False)"
      ]
    },
    {
      "cell_type": "code",
      "execution_count": 17,
      "metadata": {
        "colab": {
          "base_uri": "https://localhost:8080/",
          "height": 125
        },
        "id": "BnGK26Ju8yCX",
        "outputId": "ef49b85b-4da4-4905-fc0a-e1b0718b683e"
      },
      "outputs": [
        {
          "data": {
            "text/html": [
              "<div><style>\n",
              ".dataframe > thead > tr,\n",
              ".dataframe > tbody > tr {\n",
              "  text-align: right;\n",
              "  white-space: pre-wrap;\n",
              "}\n",
              "</style>\n",
              "<small>shape: (1, 16)</small><table border=\"1\" class=\"dataframe\"><thead><tr><th>timestamp</th><th>id</th><th>rating</th><th>18_group</th><th>is_mi</th><th>fall_1</th><th>fall_2</th><th>fall_3</th><th>spring_1</th><th>spring_2</th><th>spring_3</th><th>is_first_time</th><th>percentile</th><th>17_group</th><th>blended</th><th>is_ml_student</th></tr><tr><td>u32</td><td>u32</td><td>u32</td><td>u32</td><td>u32</td><td>u32</td><td>u32</td><td>u32</td><td>u32</td><td>u32</td><td>u32</td><td>u32</td><td>u32</td><td>u32</td><td>u32</td><td>u32</td></tr></thead><tbody><tr><td>0</td><td>0</td><td>0</td><td>0</td><td>0</td><td>0</td><td>0</td><td>0</td><td>0</td><td>0</td><td>0</td><td>0</td><td>0</td><td>0</td><td>0</td><td>0</td></tr></tbody></table></div>"
            ],
            "text/plain": [
              "shape: (1, 16)\n",
              "┌───────────┬─────┬────────┬──────────┬───┬────────────┬──────────┬─────────┬───────────────┐\n",
              "│ timestamp ┆ id  ┆ rating ┆ 18_group ┆ … ┆ percentile ┆ 17_group ┆ blended ┆ is_ml_student │\n",
              "│ ---       ┆ --- ┆ ---    ┆ ---      ┆   ┆ ---        ┆ ---      ┆ ---     ┆ ---           │\n",
              "│ u32       ┆ u32 ┆ u32    ┆ u32      ┆   ┆ u32        ┆ u32      ┆ u32     ┆ u32           │\n",
              "╞═══════════╪═════╪════════╪══════════╪═══╪════════════╪══════════╪═════════╪═══════════════╡\n",
              "│ 0         ┆ 0   ┆ 0      ┆ 0        ┆ … ┆ 0          ┆ 0        ┆ 0       ┆ 0             │\n",
              "└───────────┴─────┴────────┴──────────┴───┴────────────┴──────────┴─────────┴───────────────┘"
            ]
          },
          "execution_count": 17,
          "metadata": {},
          "output_type": "execute_result"
        }
      ],
      "source": [
        "df.select(pl.all().is_null()).sum().collect()"
      ]
    },
    {
      "cell_type": "markdown",
      "metadata": {
        "id": "2gXGRfIv84Dn"
      },
      "source": [
        "\n",
        "Все гуд, ура-ура"
      ]
    },
    {
      "cell_type": "markdown",
      "metadata": {
        "id": "a0TfG6CY3JKn"
      },
      "source": [
        "#### 3. [0.5 балла] Посмотрите повнимательнее на колонку 'is_first_time'.\n",
        "\n",
        "Каково процентное соотношение ответов? Сколько из них \"Нет\"?"
      ]
    },
    {
      "cell_type": "code",
      "execution_count": 20,
      "metadata": {
        "colab": {
          "base_uri": "https://localhost:8080/",
          "height": 187
        },
        "id": "wGolS2eY3JKn",
        "outputId": "69b45232-6293-4929-e834-80a906e741ac"
      },
      "outputs": [
        {
          "data": {
            "text/html": [
              "<div><style>\n",
              ".dataframe > thead > tr,\n",
              ".dataframe > tbody > tr {\n",
              "  text-align: right;\n",
              "  white-space: pre-wrap;\n",
              "}\n",
              "</style>\n",
              "<small>shape: (3, 2)</small><table border=\"1\" class=\"dataframe\"><thead><tr><th>is_first_time</th><th>percentage</th></tr><tr><td>str</td><td>f64</td></tr></thead><tbody><tr><td>&quot;Да&quot;</td><td>85.31856</td></tr><tr><td>&quot;Нет&quot;</td><td>14.127424</td></tr><tr><td>&quot; &quot;</td><td>0.554017</td></tr></tbody></table></div>"
            ],
            "text/plain": [
              "shape: (3, 2)\n",
              "┌───────────────┬────────────┐\n",
              "│ is_first_time ┆ percentage │\n",
              "│ ---           ┆ ---        │\n",
              "│ str           ┆ f64        │\n",
              "╞═══════════════╪════════════╡\n",
              "│ Да            ┆ 85.31856   │\n",
              "│ Нет           ┆ 14.127424  │\n",
              "│               ┆ 0.554017   │\n",
              "└───────────────┴────────────┘"
            ]
          },
          "execution_count": 20,
          "metadata": {},
          "output_type": "execute_result"
        }
      ],
      "source": [
        "length = df.group_by(\"is_first_time\").len().collect()\n",
        "count_all = length.lazy().sum().collect().row(0)[1] # dataframe с одной строкой, где во втором столбце (в 1, если нумерация с 0) стоит кол-во всех строк\n",
        "length = length.select(pl.col(\"is_first_time\"), pl.col(\"len\")/count_all*100)\n",
        "length.rename({\"len\":\"percentage\"})"
      ]
    },
    {
      "cell_type": "markdown",
      "metadata": {
        "id": "Renqf_mqekiQ"
      },
      "source": [
        "Посмотрите на колонку `timestamp` - верно ли, что датафрейм отсортирован по ней?"
      ]
    },
    {
      "cell_type": "code",
      "execution_count": 19,
      "metadata": {
        "colab": {
          "base_uri": "https://localhost:8080/"
        },
        "id": "pxDzAdErerlx",
        "outputId": "b3bb69c0-6945-41a5-c473-9243ca3cc714"
      },
      "outputs": [
        {
          "name": "stdout",
          "output_type": "stream",
          "text": [
            "Датафрейм отсортирован\n"
          ]
        }
      ],
      "source": [
        "s = pl.Series(df.select(pl.col('timestamp')).collect())\n",
        "if s.is_sorted():\n",
        "  print(\"Датафрейм отсортирован\")\n",
        "else:\n",
        "  print(\"Датафрейм не отсортирован\")"
      ]
    },
    {
      "cell_type": "markdown",
      "metadata": {
        "id": "ffyqq0ilf0pv"
      },
      "source": [
        "🔄 Оставьте только самую позднюю версию обращений студентов и сохраните изменения. Дубли оставлять тоже не нужно"
      ]
    },
    {
      "cell_type": "code",
      "execution_count": 10,
      "metadata": {
        "id": "xuKM0AtEID0d"
      },
      "outputs": [],
      "source": [
        "df = df.unique(subset='id', keep='last').collect()"
      ]
    },
    {
      "cell_type": "code",
      "execution_count": null,
      "metadata": {
        "colab": {
          "base_uri": "https://localhost:8080/"
        },
        "id": "dcrljkrVGk5_",
        "outputId": "c76b192c-59df-47cc-deca-53dd602ec086"
      },
      "outputs": [
        {
          "data": {
            "text/plain": [
              "(347, 16)"
            ]
          },
          "execution_count": 14,
          "metadata": {},
          "output_type": "execute_result"
        }
      ],
      "source": [
        "df.shape"
      ]
    },
    {
      "cell_type": "markdown",
      "metadata": {
        "id": "EXTt7DAJ3JKn"
      },
      "source": [
        "#### 4. [0.5 балла] Какие  blended-курсы для четверокурсников существуют? На какой blended-курс записалось наибольшее количество студентов? На каком из курсов собрались студенты с самым высоким средним рейтингом?"
      ]
    },
    {
      "cell_type": "code",
      "execution_count": null,
      "metadata": {
        "colab": {
          "base_uri": "https://localhost:8080/",
          "height": 203
        },
        "id": "a2jLc0dVN98z",
        "outputId": "f7ce6154-e4b9-4358-887a-03629073e363"
      },
      "outputs": [
        {
          "name": "stdout",
          "output_type": "stream",
          "text": [
            "Blended-курсы для четверокурсников:\n"
          ]
        },
        {
          "data": {
            "text/html": [
              "<div><style>\n",
              ".dataframe > thead > tr,\n",
              ".dataframe > tbody > tr {\n",
              "  text-align: right;\n",
              "  white-space: pre-wrap;\n",
              "}\n",
              "</style>\n",
              "<small>shape: (3, 1)</small><table border=\"1\" class=\"dataframe\"><thead><tr><th>blended</th></tr><tr><td>str</td></tr></thead><tbody><tr><td>&quot;Соревновательный анализ данных&quot;</td></tr><tr><td>&quot;Введение в дифференциальную ге…</td></tr><tr><td>&quot;DevOps&quot;</td></tr></tbody></table></div>"
            ],
            "text/plain": [
              "shape: (3, 1)\n",
              "┌─────────────────────────────────┐\n",
              "│ blended                         │\n",
              "│ ---                             │\n",
              "│ str                             │\n",
              "╞═════════════════════════════════╡\n",
              "│ Соревновательный анализ данных  │\n",
              "│ Введение в дифференциальную ге… │\n",
              "│ DevOps                          │\n",
              "└─────────────────────────────────┘"
            ]
          },
          "execution_count": 25,
          "metadata": {},
          "output_type": "execute_result"
        }
      ],
      "source": [
        "print(\"Blended-курсы для четверокурсников:\")\n",
        "df.filter(pl.col(\"blended\").is_not_null()).select(\"blended\").unique().filter(pl.col(\"blended\") != \" \").collect()"
      ]
    },
    {
      "cell_type": "code",
      "execution_count": null,
      "metadata": {
        "colab": {
          "base_uri": "https://localhost:8080/",
          "height": 142
        },
        "id": "5ruqP3FIZ90h",
        "outputId": "729f8fd8-a16e-42ba-a4f4-370cdeeed478"
      },
      "outputs": [
        {
          "name": "stdout",
          "output_type": "stream",
          "text": [
            "Наибольшее количество студентов записалось на следующий курс:\n"
          ]
        },
        {
          "data": {
            "text/html": [
              "<div><style>\n",
              ".dataframe > thead > tr,\n",
              ".dataframe > tbody > tr {\n",
              "  text-align: right;\n",
              "  white-space: pre-wrap;\n",
              "}\n",
              "</style>\n",
              "<small>shape: (1, 2)</small><table border=\"1\" class=\"dataframe\"><thead><tr><th>blended</th><th>students_count</th></tr><tr><td>str</td><td>u32</td></tr></thead><tbody><tr><td>&quot;DevOps&quot;</td><td>87</td></tr></tbody></table></div>"
            ],
            "text/plain": [
              "shape: (1, 2)\n",
              "┌─────────┬────────────────┐\n",
              "│ blended ┆ students_count │\n",
              "│ ---     ┆ ---            │\n",
              "│ str     ┆ u32            │\n",
              "╞═════════╪════════════════╡\n",
              "│ DevOps  ┆ 87             │\n",
              "└─────────┴────────────────┘"
            ]
          },
          "execution_count": 26,
          "metadata": {},
          "output_type": "execute_result"
        }
      ],
      "source": [
        "print(\"Наибольшее количество студентов записалось на следующий курс:\")\n",
        "df.filter(pl.col(\"blended\") != \" \").group_by(\"blended\").agg(pl.len().alias(\"students_count\")).sort(\"students_count\", descending=True).first().collect()"
      ]
    },
    {
      "cell_type": "code",
      "execution_count": null,
      "metadata": {
        "colab": {
          "base_uri": "https://localhost:8080/",
          "height": 142
        },
        "id": "7VRWJtdgbeCN",
        "outputId": "e49db3e2-3c8a-463a-b32c-6d5f547a154b"
      },
      "outputs": [
        {
          "name": "stdout",
          "output_type": "stream",
          "text": [
            "Студенты с самым высоким средним рейтингом собрались на следующем курсе:\n"
          ]
        },
        {
          "data": {
            "text/html": [
              "<div><style>\n",
              ".dataframe > thead > tr,\n",
              ".dataframe > tbody > tr {\n",
              "  text-align: right;\n",
              "  white-space: pre-wrap;\n",
              "}\n",
              "</style>\n",
              "<small>shape: (1, 2)</small><table border=\"1\" class=\"dataframe\"><thead><tr><th>blended</th><th>average_rating</th></tr><tr><td>str</td><td>f64</td></tr></thead><tbody><tr><td>&quot;Введение в дифференциальную ге…</td><td>1210.733333</td></tr></tbody></table></div>"
            ],
            "text/plain": [
              "shape: (1, 2)\n",
              "┌─────────────────────────────────┬────────────────┐\n",
              "│ blended                         ┆ average_rating │\n",
              "│ ---                             ┆ ---            │\n",
              "│ str                             ┆ f64            │\n",
              "╞═════════════════════════════════╪════════════════╡\n",
              "│ Введение в дифференциальную ге… ┆ 1210.733333    │\n",
              "└─────────────────────────────────┴────────────────┘"
            ]
          },
          "execution_count": 27,
          "metadata": {},
          "output_type": "execute_result"
        }
      ],
      "source": [
        "print(\"Студенты с самым высоким средним рейтингом собрались на следующем курсе:\")\n",
        "df.filter(pl.col(\"blended\") != \" \").group_by(\"blended\").agg(pl.mean(\"rating\").alias(\"average_rating\")).sort(\"average_rating\", descending=True).first().collect()"
      ]
    },
    {
      "cell_type": "markdown",
      "metadata": {
        "id": "afbGGxV73JKn"
      },
      "source": [
        "#### 5. [1 балл] Выясните, есть ли студенты с абсолютно одинаковыми предпочтениями по всем курсам.\n",
        "\n",
        "Для этого сформируйте таблицу, где для каждого возможного набора курсов посчитано количество студентов, выбравших такой набор, и оставьте только строки где это количество больше 1.\n",
        "\n",
        "В данном случае набор курсов задается упорядоченным множеством ('fall_1', 'fall_2', 'fall_3', 'spring_1', 'spring_2', 'spring_3', 'blended'). Элемент blended будет нулевым для 3-го курса."
      ]
    },
    {
      "cell_type": "code",
      "execution_count": null,
      "metadata": {
        "colab": {
          "base_uri": "https://localhost:8080/",
          "height": 595
        },
        "id": "Kybv8HzH7nNw",
        "outputId": "5b6ede78-c285-4c4a-ff66-c02fbc0a6f92"
      },
      "outputs": [
        {
          "data": {
            "text/html": [
              "<div><style>\n",
              ".dataframe > thead > tr,\n",
              ".dataframe > tbody > tr {\n",
              "  text-align: right;\n",
              "  white-space: pre-wrap;\n",
              "}\n",
              "</style>\n",
              "<small>shape: (15, 8)</small><table border=\"1\" class=\"dataframe\"><thead><tr><th>fall_1</th><th>fall_2</th><th>fall_3</th><th>spring_1</th><th>spring_2</th><th>spring_3</th><th>blended</th><th>same</th></tr><tr><td>str</td><td>str</td><td>str</td><td>str</td><td>str</td><td>str</td><td>str</td><td>u32</td></tr></thead><tbody><tr><td>&quot;Statistical Learning Theory&quot;</td><td>&quot;Анализ неструктурированных дан…</td><td>&quot;Сбор и обработка данных с помо…</td><td>&quot;Обучение с подкреплением&quot;</td><td>&quot;Конфликты и кооперация&quot;</td><td>&quot;Компьютерное зрение&quot;</td><td>&quot;DevOps&quot;</td><td>2</td></tr><tr><td>&quot;Безопасность компьютерных сист…</td><td>&quot;Сбор и обработка данных с помо…</td><td>&quot;Матричные вычисления&quot;</td><td>&quot;Компьютерные сети&quot;</td><td>&quot;Промышленное программирование …</td><td>&quot;Анализ данных в бизнесе&quot;</td><td>&quot; &quot;</td><td>2</td></tr><tr><td>&quot;Безопасность компьютерных сист…</td><td>&quot;Высокопроизводительные вычисле…</td><td>&quot;Анализ неструктурированных дан…</td><td>&quot;Проектирование и разработка вы…</td><td>&quot;Методы сжатия и передачи медиа…</td><td>&quot;Конфликты и кооперация&quot;</td><td>&quot;DevOps&quot;</td><td>2</td></tr><tr><td>&quot;Байесовские методы машинного о…</td><td>&quot;Анализ неструктурированных дан…</td><td>&quot;Сбор и обработка данных с помо…</td><td>&quot;Обучение с подкреплением&quot;</td><td>&quot;Компьютерное зрение&quot;</td><td>&quot;Генеративные модели в машинном…</td><td>&quot;DevOps&quot;</td><td>2</td></tr><tr><td>&quot;Безопасность компьютерных сист…</td><td>&quot;Матричные вычисления&quot;</td><td>&quot;Моделирование временных рядов&quot;</td><td>&quot;Промышленное программирование …</td><td>&quot;Компьютерные сети&quot;</td><td>&quot;Дискретная оптимизация&quot;</td><td>&quot; &quot;</td><td>2</td></tr><tr><td>&hellip;</td><td>&hellip;</td><td>&hellip;</td><td>&hellip;</td><td>&hellip;</td><td>&hellip;</td><td>&hellip;</td><td>&hellip;</td></tr><tr><td>&quot;Безопасность компьютерных сист…</td><td>&quot;Высокопроизводительные вычисле…</td><td>&quot;Язык SQL&quot;</td><td>&quot;Компьютерные сети&quot;</td><td>&quot;Промышленное программирование …</td><td>&quot;Дискретная оптимизация&quot;</td><td>&quot; &quot;</td><td>3</td></tr><tr><td>&quot;Высокопроизводительные вычисле…</td><td>&quot;Безопасность компьютерных сист…</td><td>&quot;Сбор и обработка данных с помо…</td><td>&quot;Проектирование и разработка вы…</td><td>&quot;Методы сжатия и передачи медиа…</td><td>&quot;Компьютерное зрение&quot;</td><td>&quot;DevOps&quot;</td><td>2</td></tr><tr><td>&quot;Байесовские методы машинного о…</td><td>&quot;Анализ неструктурированных дан…</td><td>&quot;Глубинное обучение в обработке…</td><td>&quot;Обучение с подкреплением&quot;</td><td>&quot;Генеративные модели в машинном…</td><td>&quot;Компьютерное зрение&quot;</td><td>&quot;DevOps&quot;</td><td>2</td></tr><tr><td>&quot;Безопасность компьютерных сист…</td><td>&quot;Теория баз данных&quot;</td><td>&quot;Язык SQL&quot;</td><td>&quot;Машинное обучение 2&quot;</td><td>&quot;Компьютерные сети&quot;</td><td>&quot;Промышленное программирование …</td><td>&quot; &quot;</td><td>2</td></tr><tr><td>&quot;Безопасность компьютерных сист…</td><td>&quot;Statistical Learning Theory&quot;</td><td>&quot;Матричные вычисления&quot;</td><td>&quot;Дискретная оптимизация&quot;</td><td>&quot;Промышленное программирование …</td><td>&quot;Дополнительные главы прикладно…</td><td>&quot; &quot;</td><td>3</td></tr></tbody></table></div>"
            ],
            "text/plain": [
              "shape: (15, 8)\n",
              "┌─────────────┬─────────────┬─────────────┬─────────────┬────────────┬────────────┬─────────┬──────┐\n",
              "│ fall_1      ┆ fall_2      ┆ fall_3      ┆ spring_1    ┆ spring_2   ┆ spring_3   ┆ blended ┆ same │\n",
              "│ ---         ┆ ---         ┆ ---         ┆ ---         ┆ ---        ┆ ---        ┆ ---     ┆ ---  │\n",
              "│ str         ┆ str         ┆ str         ┆ str         ┆ str        ┆ str        ┆ str     ┆ u32  │\n",
              "╞═════════════╪═════════════╪═════════════╪═════════════╪════════════╪════════════╪═════════╪══════╡\n",
              "│ Statistical ┆ Анализ нест ┆ Сбор и      ┆ Обучение с  ┆ Конфликты  ┆ Компьютерн ┆ DevOps  ┆ 2    │\n",
              "│ Learning    ┆ руктурирова ┆ обработка   ┆ подкреплени ┆ и          ┆ ое зрение  ┆         ┆      │\n",
              "│ Theory      ┆ нных дан…   ┆ данных с    ┆ ем          ┆ кооперация ┆            ┆         ┆      │\n",
              "│             ┆             ┆ помо…       ┆             ┆            ┆            ┆         ┆      │\n",
              "│ Безопасност ┆ Сбор и      ┆ Матричные   ┆ Компьютерны ┆ Промышленн ┆ Анализ     ┆         ┆ 2    │\n",
              "│ ь компьютер ┆ обработка   ┆ вычисления  ┆ е сети      ┆ ое програм ┆ данных в   ┆         ┆      │\n",
              "│ ных сист…   ┆ данных с    ┆             ┆             ┆ мирование  ┆ бизнесе    ┆         ┆      │\n",
              "│             ┆ помо…       ┆             ┆             ┆ …          ┆            ┆         ┆      │\n",
              "│ Безопасност ┆ Высокопроиз ┆ Анализ нест ┆ Проектирова ┆ Методы     ┆ Конфликты  ┆ DevOps  ┆ 2    │\n",
              "│ ь компьютер ┆ водительные ┆ руктурирова ┆ ние и       ┆ сжатия и   ┆ и          ┆         ┆      │\n",
              "│ ных сист…   ┆ вычисле…    ┆ нных дан…   ┆ разработка  ┆ передачи   ┆ кооперация ┆         ┆      │\n",
              "│             ┆             ┆             ┆ вы…         ┆ медиа…     ┆            ┆         ┆      │\n",
              "│ Байесовские ┆ Анализ нест ┆ Сбор и      ┆ Обучение с  ┆ Компьютерн ┆ Генеративн ┆ DevOps  ┆ 2    │\n",
              "│ методы      ┆ руктурирова ┆ обработка   ┆ подкреплени ┆ ое зрение  ┆ ые модели  ┆         ┆      │\n",
              "│ машинного   ┆ нных дан…   ┆ данных с    ┆ ем          ┆            ┆ в          ┆         ┆      │\n",
              "│ о…          ┆             ┆ помо…       ┆             ┆            ┆ машинном…  ┆         ┆      │\n",
              "│ Безопасност ┆ Матричные   ┆ Моделирован ┆ Промышленно ┆ Компьютерн ┆ Дискретная ┆         ┆ 2    │\n",
              "│ ь компьютер ┆ вычисления  ┆ ие          ┆ е программи ┆ ые сети    ┆ оптимизаци ┆         ┆      │\n",
              "│ ных сист…   ┆             ┆ временных   ┆ рование …   ┆            ┆ я          ┆         ┆      │\n",
              "│             ┆             ┆ рядов       ┆             ┆            ┆            ┆         ┆      │\n",
              "│ …           ┆ …           ┆ …           ┆ …           ┆ …          ┆ …          ┆ …       ┆ …    │\n",
              "│ Безопасност ┆ Высокопроиз ┆ Язык SQL    ┆ Компьютерны ┆ Промышленн ┆ Дискретная ┆         ┆ 3    │\n",
              "│ ь компьютер ┆ водительные ┆             ┆ е сети      ┆ ое програм ┆ оптимизаци ┆         ┆      │\n",
              "│ ных сист…   ┆ вычисле…    ┆             ┆             ┆ мирование  ┆ я          ┆         ┆      │\n",
              "│             ┆             ┆             ┆             ┆ …          ┆            ┆         ┆      │\n",
              "│ Высокопроиз ┆ Безопасност ┆ Сбор и      ┆ Проектирова ┆ Методы     ┆ Компьютерн ┆ DevOps  ┆ 2    │\n",
              "│ водительные ┆ ь компьютер ┆ обработка   ┆ ние и       ┆ сжатия и   ┆ ое зрение  ┆         ┆      │\n",
              "│ вычисле…    ┆ ных сист…   ┆ данных с    ┆ разработка  ┆ передачи   ┆            ┆         ┆      │\n",
              "│             ┆             ┆ помо…       ┆ вы…         ┆ медиа…     ┆            ┆         ┆      │\n",
              "│ Байесовские ┆ Анализ нест ┆ Глубинное   ┆ Обучение с  ┆ Генеративн ┆ Компьютерн ┆ DevOps  ┆ 2    │\n",
              "│ методы      ┆ руктурирова ┆ обучение в  ┆ подкреплени ┆ ые модели  ┆ ое зрение  ┆         ┆      │\n",
              "│ машинного   ┆ нных дан…   ┆ обработке…  ┆ ем          ┆ в          ┆            ┆         ┆      │\n",
              "│ о…          ┆             ┆             ┆             ┆ машинном…  ┆            ┆         ┆      │\n",
              "│ Безопасност ┆ Теория баз  ┆ Язык SQL    ┆ Машинное    ┆ Компьютерн ┆ Промышленн ┆         ┆ 2    │\n",
              "│ ь компьютер ┆ данных      ┆             ┆ обучение 2  ┆ ые сети    ┆ ое програм ┆         ┆      │\n",
              "│ ных сист…   ┆             ┆             ┆             ┆            ┆ мирование  ┆         ┆      │\n",
              "│             ┆             ┆             ┆             ┆            ┆ …          ┆         ┆      │\n",
              "│ Безопасност ┆ Statistical ┆ Матричные   ┆ Дискретная  ┆ Промышленн ┆ Дополнител ┆         ┆ 3    │\n",
              "│ ь компьютер ┆ Learning    ┆ вычисления  ┆ оптимизация ┆ ое програм ┆ ьные главы ┆         ┆      │\n",
              "│ ных сист…   ┆ Theory      ┆             ┆             ┆ мирование  ┆ прикладно… ┆         ┆      │\n",
              "│             ┆             ┆             ┆             ┆ …          ┆            ┆         ┆      │\n",
              "└─────────────┴─────────────┴─────────────┴─────────────┴────────────┴────────────┴─────────┴──────┘"
            ]
          },
          "execution_count": 28,
          "metadata": {},
          "output_type": "execute_result"
        }
      ],
      "source": [
        "courses = [\"fall_1\", \"fall_2\", \"fall_3\", \"spring_1\", \"spring_2\", \"spring_3\", \"blended\"]\n",
        "equal = df.group_by(courses).agg(pl.col(\"id\").n_unique().alias(\"same\")).filter(pl.col(\"same\")>1).collect()\n",
        "equal"
      ]
    },
    {
      "cell_type": "markdown",
      "metadata": {
        "id": "JU0vq96o3JKo"
      },
      "source": [
        "#### 6. [0.5 балла] Найдите курсы по выбору, на которые записывались как студенты 18-го года набора, так и студенты 17-го года."
      ]
    },
    {
      "cell_type": "code",
      "execution_count": 39,
      "metadata": {
        "colab": {
          "base_uri": "https://localhost:8080/"
        },
        "id": "Tzb3VO8WiLH7",
        "outputId": "2f063c81-bd5e-4ee0-dc31-5986576fee19"
      },
      "outputs": [
        {
          "name": "stderr",
          "output_type": "stream",
          "text": [
            "<ipython-input-39-6f422583d7c6>:6: DeprecationWarning: `DataFrame.melt` is deprecated. Use `unpivot` instead, with `index` instead of `id_vars` and `on` instead of `value_vars`\n",
            "  year_17_unique = set(year_17.select(columns).unique().melt().get_column(\"value\").to_list())\n",
            "<ipython-input-39-6f422583d7c6>:7: DeprecationWarning: `DataFrame.melt` is deprecated. Use `unpivot` instead, with `index` instead of `id_vars` and `on` instead of `value_vars`\n",
            "  year_18_unique = set(year_18.select(columns).unique().melt().get_column(\"value\").to_list())\n"
          ]
        },
        {
          "data": {
            "text/plain": [
              "{'Statistical Learning Theory',\n",
              " 'Безопасность компьютерных систем',\n",
              " 'Высокопроизводительные вычисления',\n",
              " 'Моделирование временных рядов',\n",
              " 'Принятие решений в условиях риска и неопределённости',\n",
              " 'Сбор и обработка данных с помощью краудсорсинга',\n",
              " 'Численные методы'}"
            ]
          },
          "execution_count": 39,
          "metadata": {},
          "output_type": "execute_result"
        }
      ],
      "source": [
        "year_17 = df.filter(pl.col('17_group') != \" \")\n",
        "year_18 = df.filter(pl.col('18_group') != 0)\n",
        "\n",
        "columns = [\"fall_1\", \"fall_2\", \"fall_3\", \"spring_1\", \"spring_2\", \"spring_3\", \"blended\"]\n",
        "\n",
        "year_17_unique = set(year_17.select(columns).unique().melt().get_column(\"value\").to_list())\n",
        "year_18_unique = set(year_18.select(columns).unique().melt().get_column(\"value\").to_list())\n",
        "intersection = year_17_unique.intersection(year_18_unique)\n",
        "intersection"
      ]
    },
    {
      "cell_type": "markdown",
      "metadata": {
        "id": "NMkajSaI3JKr"
      },
      "source": [
        "Методом исключения найдите курсы, которые предлагались только студентам 18-го года и только студентам 17-го года."
      ]
    },
    {
      "cell_type": "code",
      "execution_count": 42,
      "metadata": {
        "colab": {
          "base_uri": "https://localhost:8080/"
        },
        "id": "enzNaFLP3JKs",
        "outputId": "9e113a5b-3906-46ac-de39-379b46fe8cc3"
      },
      "outputs": [
        {
          "data": {
            "text/plain": [
              "{'DevOps',\n",
              " 'Анализ неструктурированных данных',\n",
              " 'Байесовские методы машинного обучения',\n",
              " 'Введение в дифференциальную геометрию',\n",
              " 'Генеративные модели в машинном обучении',\n",
              " 'Глубинное обучение в обработке звука',\n",
              " 'Компьютерное зрение',\n",
              " 'Конфликты и кооперация',\n",
              " 'Методы сжатия и передачи медиаданных',\n",
              " 'Обучение с подкреплением',\n",
              " 'Проектирование и разработка высоконагруженных сервисов',\n",
              " 'Символьные вычисления',\n",
              " 'Соревновательный анализ данных'}"
            ]
          },
          "execution_count": 42,
          "metadata": {},
          "output_type": "execute_result"
        }
      ],
      "source": [
        "year_17_unique.symmetric_difference(intersection)"
      ]
    },
    {
      "cell_type": "code",
      "execution_count": 43,
      "metadata": {
        "colab": {
          "base_uri": "https://localhost:8080/"
        },
        "id": "95nvUxdDGbTA",
        "outputId": "28832fea-fbe4-4d1a-f961-cbff707deb26"
      },
      "outputs": [
        {
          "data": {
            "text/plain": [
              "{' ',\n",
              " 'Анализ данных в бизнесе',\n",
              " 'Дискретная оптимизация',\n",
              " 'Дополнительные главы прикладной статистики',\n",
              " 'Компьютерные сети',\n",
              " 'Матричные вычисления',\n",
              " 'Машинное обучение 2',\n",
              " 'Промышленное программирование на языке Java',\n",
              " 'Системы баз данных',\n",
              " 'Теория баз данных',\n",
              " 'Язык SQL'}"
            ]
          },
          "execution_count": 43,
          "metadata": {},
          "output_type": "execute_result"
        }
      ],
      "source": [
        "year_18_unique.symmetric_difference(intersection)"
      ]
    },
    {
      "cell_type": "markdown",
      "metadata": {
        "id": "c5TmcNdI3JKs"
      },
      "source": [
        "### Визуализации"
      ]
    },
    {
      "cell_type": "markdown",
      "metadata": {
        "id": "74juA0bp3JKs"
      },
      "source": [
        "При работе с данными часто неудобно делать какие-то выводы, если смотреть на таблицу и числа в частности, поэтому важно уметь визуализировать данные. Здесь будут описаны ключевые правила оформления графиков для **всех** домашних заданий.\n",
        "\n",
        "У matplotlib, конечно же, есть [документация](https://matplotlib.org/users/index.html) с большим количеством [примеров](https://matplotlib.org/examples/), но для начала достаточно знать про несколько основных типов графиков:\n",
        "- plot — обычный поточечный график, которым можно изображать кривые или отдельные точки;\n",
        "- hist — гистограмма, показывающая распределение некоторой величины;\n",
        "- scatter — график, показывающий взаимосвязь двух величин;\n",
        "- bar — столбцовый график, показывающий взаимосвязь количественной величины от категориальной.\n",
        "\n",
        "В этом задании вы попробуете построить один из них. Не забывайте про базовые принципы построения приличных графиков:\n",
        "- оси должны быть подписаны, причём не слишком мелко;\n",
        "- у графика должно быть название;\n",
        "- если изображено несколько графиков, то необходима поясняющая легенда;\n",
        "- все линии на графиках должны быть чётко видны (нет похожих цветов или цветов, сливающихся с фоном);\n",
        "- если возможно сделать график интерактивным, это обычно того стоит - помогает решить проблемы с читаемостью;\n",
        "- если отображена величина, имеющая очевидный диапазон значений (например, проценты могут быть от 0 до 100), то желательно масштабировать ось на весь диапазон значений (исключением является случай, когда вам необходимо показать малое отличие, которое незаметно в таких масштабах);\n",
        "- сетка на графике помогает оценить значения в точках на глаз, это обычно полезно, поэтому лучше ее отрисовывать;\n",
        "- если распределение на гистограмме имеет тяжёлые хвосты, лучше использовать логарифмическую шкалу.\n",
        "\n",
        "Еще одна билиотека для визуализации: [seaborn](https://jakevdp.github.io/PythonDataScienceHandbook/04.14-visualization-with-seaborn.html). Это настройка над matplotlib, иногда удобнее и красивее делать визуализации через неё.\n",
        "\n",
        "У `polars` уже есть встроенные инструменты для визуализации, в частности интерактивные на базе [hvplot](https://docs.pola.rs/user-guide/misc/visualization/#plotly). Из её преимуществ - хорошая производительность при работе с большими данными, есть поддержка самых популярных видов графиков, но синтаксис не самый удобный"
      ]
    },
    {
      "cell_type": "markdown",
      "metadata": {
        "id": "QkH7afPm3JKs"
      },
      "source": [
        "#### 7. [0.5 балла] Постройте график средних рейтингов по дням получения ответов (bar plot)."
      ]
    },
    {
      "cell_type": "code",
      "execution_count": 46,
      "metadata": {
        "colab": {
          "base_uri": "https://localhost:8080/",
          "height": 605
        },
        "id": "61RdonHEL7PK",
        "outputId": "245f447a-c5be-4b84-b9ff-3d1312d38ebd"
      },
      "outputs": [
        {
          "data": {
            "image/png": "[encoded data removed]",
            "text/plain": [
              "<Figure size 1200x600 with 1 Axes>"
            ]
          },
          "metadata": {},
          "output_type": "display_data"
        }
      ],
      "source": [
        "import matplotlib.pyplot as plt\n",
        "from matplotlib.dates import DateFormatter\n",
        "\n",
        "new_df = df.with_columns(pl.col(\"timestamp\").str.strptime(pl.Datetime, \"%Y-%m-%d %H:%M:%S\"))\n",
        "\n",
        "mean_ratings = new_df.group_by(pl.col(\"timestamp\").dt.date().alias(\"date\")).agg(pl.col(\"rating\").mean().alias(\"mean_rating\")).sort(\"date\")\n",
        "\n",
        "fig, ax = plt.subplots(figsize=(12, 6))\n",
        "ax.bar(mean_ratings[\"date\"], mean_ratings[\"mean_rating\"], color=\"skyblue\")\n",
        "\n",
        "ax.set_xlabel(\"Дата\", fontsize=12)\n",
        "ax.set_ylabel(\"Средний рейтинг\", fontsize=12)\n",
        "ax.set_title(\"Средний рейтинг по дням\", fontsize=14)\n",
        "plt.xticks(rotation=45, ha='right')\n",
        "ax.grid(True, alpha=0.5)\n",
        "\n",
        "ax.set_xticks(mean_ratings[\"date\"])\n",
        "date_format = DateFormatter(\"%Y-%m-%d\")\n",
        "ax.xaxis.set_major_formatter(date_format)\n",
        "\n",
        "plt.tight_layout()\n",
        "plt.show()"
      ]
    },
    {
      "cell_type": "markdown",
      "metadata": {
        "id": "bZB_kTE63JKs"
      },
      "source": [
        "Сохраните график в формате pdf (так он останется векторизованным) или html (тогда останется интерактивным)"
      ]
    },
    {
      "cell_type": "code",
      "execution_count": 47,
      "metadata": {
        "colab": {
          "base_uri": "https://localhost:8080/",
          "height": 32
        },
        "id": "35bHvSsV3JKt",
        "outputId": "2590dc14-1fb4-4123-84ea-bbd57776e7d9"
      },
      "outputs": [
        {
          "data": {
            "text/plain": [
              "<Figure size 640x480 with 0 Axes>"
            ]
          },
          "metadata": {},
          "output_type": "display_data"
        }
      ],
      "source": [
        "plt.savefig(\"mean_ratings_by_date.pdf\")"
      ]
    },
    {
      "cell_type": "markdown",
      "metadata": {
        "id": "EvWtDBRp3JKt"
      },
      "source": [
        "### 2. Распределение студентов по курсам."
      ]
    },
    {
      "cell_type": "markdown",
      "metadata": {
        "id": "zTPksBGL3JKt"
      },
      "source": [
        "<span style=\"color:red\">!!!ВНИМАТЕЛЬНО ИЗУЧИТЕ ТЕКСТ НИЖЕ!!!</span>.\n",
        "\n",
        "<span style=\"color:orange\">Если во время выполнения заданий у вас вознинут вопросы -- еще раз перечитайте текст целиком, скорее всего ответы уже содержатся в нем.</span>\n",
        "\n",
        "Теперь вам нужно распределить студентов по осенним курсам по выбору, учитывая их предпочтения."
      ]
    },
    {
      "cell_type": "markdown",
      "metadata": {
        "id": "S5lk67UA3JKt"
      },
      "source": [
        "## 📌 **Алгоритм распределения студентов по курсам**:\n",
        "1. По умолчанию на каждой дисциплине по выбору у 3 и 4 курсов может учиться 1 группа (до 30 студентов). Исключения описаны ниже. На blended-дисциплинах для четверокурсников количество мест не ограничено.\n",
        "2. Проводится первая волна отбора. Для каждой дисциплины формируется список тех, кто указал её первым приоритетом (если студент должен выбрать два курса по выбору, то для него дисциплины, которые он указал первым и вторым приоритетом, рассматриваются как дисциплины первого приоритета). Если желающих больше, чем мест, то выбирается топ по перцентилю рейтинга.\n",
        "3. На дисциплинах, где остались места после первой волны, формируются списки тех, кто выбрал их вторым приоритетом, и места заполняются лучшими по перцентили рейтинга студентами. После этого проводится такая же процедура для дисциплин третьего приоритета.\n",
        "4. Если студент не попал на необходимое количество курсов по итогам трёх волн, с ним связывается учебный офис и решает вопрос в индивидуальном порядке."
      ]
    },
    {
      "cell_type": "markdown",
      "metadata": {
        "id": "Ux4yMPan3JKu"
      },
      "source": [
        "## ☝️ **Обращаем ваше внимание на следующие детали:**\n",
        "\n",
        "- Конкурс на каждый курс общий для 3-го и 4-го курса\n",
        "\n",
        "- По умолчанию студент выбирает один осенний и один весенний курс по выбору, а также четверокурсники выбирают один blended-курс. Студенты групп 17-го года специализаций МОП и ТИ выбирают по 2 осенних и 2 весенних курса по выбору, также студенты групп 18' специализации МИ выбирают 2 осенних курса. <i>Для студентов, которые выбирают 2 курса (например, осенних) первый приоритет — <code>fall_1</code> и <code>fall_2</code>, второй приоритет — <code>fall_3</code>. Такие студенты участвуют только в двух волнах отбора</i>.\n",
        "\n",
        "- Студенты специализации МОП не могут выбрать весенним курсом по выбору Машинное обучение 2. **Если студент специализации МОП выбрал Машинное обучение 2, то его приоритеты сдвигаются.** Из-за совпадений первого и второго курса по выбору двигать приоритеты не надо.\n",
        "\n",
        "- Blended-курсы не трогайте, по ним не надо распределять, на другие курсы они никак не влияют.\n",
        "\n",
        "- Заведомо известно, что в процессе распределения не возникнет ситуации, когда на одно место претендуют студенты с одинаковым перцентилем.\n",
        "\n",
        "- Постарайтесь воздержаться от использования циклов там, где это возможно. <i>Допустимо итерироваться по <b>курсам</b>, на которые проводится отбор, и по <b>волнам</b> отбора. Если вы придумаете, как обойтись и без этих циклов, то на усмотрение проверяющего могут быть добавлены бонусные баллы. <b>Дублирование кода не признается успешным избавлением от циклов</b></i>\n",
        "\n",
        "- На выходе ожидается файл res_fall.csv с результатами распределения на осенние курсы по выбору. Файл должен быть следующего формата:\n",
        "\n",
        "    * три столбца: ID, course1, course2\n",
        "    \n",
        "    * Если студент не попал на курс, но должен был, то вместо названия курса в ячейке должна быть строка \"???\"\n",
        "    \n",
        "    * Если студент должен выбрать только один курс, то в колонке course2 для него должна стоять строка \"-\"\n",
        "\n",
        "    * Если студент должен выбрать два курса по выбору, то порядок в колонках course1 и course2 не важен.\n",
        "    \n",
        "    * Формат csv: для сохранения воспользуйтесь `df.write_csv('solution.csv')`"
      ]
    },
    {
      "cell_type": "markdown",
      "metadata": {
        "id": "q4b6w14cS_rW"
      },
      "source": [
        "Для работы вам могут понадобиться следующие данные:\n",
        "\n",
        "- Результаты опроса (вы уже использовали этот файл в первой части задания, но на всякий случай ссылка: https://www.dropbox.com/s/f4rm8sjc3v99p0m/_end_seminar.xlsx?dl=0)\n",
        "\n",
        "- Соответствие номеров групп специализациям:\n",
        "\n",
        "    * 171, 172 - МОП; 173 - ТИ; 174 — АДИС; 175, 176 — РС; 177 — АПР\n",
        "    \n",
        "    * У студентов 18-го года номера групп соответствуют номерам до распределения по специализациям. Это означает, что по номеру группы 18* нельзя однозначно определить специализацию студента. При этом в рамках распределения важно знать информацию только о двух из них: МОП и МИ. Эти знание можно получить из колонок 'is_ml_student ' и 'is_mi' соответственно.\n",
        "\n",
        "- Ограничения по количеству мест на курсах по выбору:\n",
        "\n",
        "    * Осенние: везде 30 мест, кроме Statistical Learning Theory (60 мест), Высокопроизводительных вычислений (60 мест), Анализа неструктурированных данных ($\\infty$ мест)\n",
        "\n",
        "    * Весенние: везде 30 мест, кроме Обучения с подкреплением (60 мест), Анализа данных в бизнесе (60 мест).\n",
        "\n",
        "\n",
        "Кстати, убедитесь, что в данных больше нет пропусков и повторных записей и сделайте `.collect()`, если не сделали этого до"
      ]
    },
    {
      "cell_type": "markdown",
      "metadata": {
        "id": "vOVE6Do13JKu"
      },
      "source": [
        "#### 0. Проверка\n",
        "\n",
        "Для начала давайте убедимся, что вы успешно выполнили задания первой части и проверим ваши данные на наличие пропусков и повторов"
      ]
    },
    {
      "cell_type": "code",
      "execution_count": 48,
      "metadata": {
        "id": "tNeCa71zHEe8"
      },
      "outputs": [],
      "source": [
        "assert type(df) == pl.DataFrame, \"Датафрейм не собран\"\n",
        "assert df.shape[0] == 347, \"В таблице остались повторы или потеряны данные\"\n",
        "assert df.null_count().sum_horizontal().item() == 0, \"В таблице остались пропуски\""
      ]
    },
    {
      "cell_type": "markdown",
      "metadata": {
        "id": "H7qZDN0y3JKu"
      },
      "source": [
        "Если вы не получили AssertionError, то можете продолжать."
      ]
    },
    {
      "cell_type": "markdown",
      "metadata": {
        "id": "y81hqcoZ3JKu"
      },
      "source": [
        "#### 1. [1 балл] Создайте новый признак, обозначающий, сколько осенних курсов должен выбрать студент\n",
        "\n",
        "В этом вам может помочь информация о специализации и группе студента."
      ]
    },
    {
      "cell_type": "code",
      "execution_count": 49,
      "metadata": {
        "id": "b7prwyI9lao7"
      },
      "outputs": [],
      "source": [
        "df = df.with_columns(pl.when((pl.col('17_group').is_in([\"171\", \"172\", \"173\"])) | (pl.col('is_mi') == True)).then(2).otherwise(1).alias(\"fall_courses_count\"))"
      ]
    },
    {
      "cell_type": "markdown",
      "metadata": {
        "id": "hapnRDPU3JKv"
      },
      "source": [
        "Проверка:"
      ]
    },
    {
      "cell_type": "code",
      "execution_count": 50,
      "metadata": {
        "id": "3qK9-jmP3JKv"
      },
      "outputs": [],
      "source": [
        "col_name = \"fall_courses_count\"\n",
        "\n",
        "ids = [\n",
        "    \"2662600c2c37e11e62f6ee0b88452f22\",\n",
        "    \"d555d2805e1d93d4f023e57dc4c8f403\",\n",
        "    \"8fe79f84f36e3a5d2d6745621321302c\",\n",
        "    \"e4caca755ee0bdd711e18fb8084958b5\",\n",
        "]\n",
        "assert (\n",
        "    df.filter(pl.col(\"id\").is_in(ids)).sort(\"id\")[col_name] == [2, 1, 2, 1]\n",
        ").all()"
      ]
    },
    {
      "cell_type": "code",
      "execution_count": 51,
      "metadata": {
        "colab": {
          "base_uri": "https://localhost:8080/",
          "height": 780
        },
        "id": "F2tjeZ5unNJn",
        "outputId": "c4255140-6b1a-45a2-8dce-5a2a0a8d0743"
      },
      "outputs": [
        {
          "data": {
            "text/html": [
              "<div><style>\n",
              ".dataframe > thead > tr,\n",
              ".dataframe > tbody > tr {\n",
              "  text-align: right;\n",
              "  white-space: pre-wrap;\n",
              "}\n",
              "</style>\n",
              "<small>shape: (347, 17)</small><table border=\"1\" class=\"dataframe\"><thead><tr><th>timestamp</th><th>id</th><th>rating</th><th>18_group</th><th>is_mi</th><th>fall_1</th><th>fall_2</th><th>fall_3</th><th>spring_1</th><th>spring_2</th><th>spring_3</th><th>is_first_time</th><th>percentile</th><th>17_group</th><th>blended</th><th>is_ml_student</th><th>fall_courses_count</th></tr><tr><td>str</td><td>str</td><td>i64</td><td>i64</td><td>i64</td><td>str</td><td>str</td><td>str</td><td>str</td><td>str</td><td>str</td><td>str</td><td>f64</td><td>str</td><td>str</td><td>bool</td><td>i32</td></tr></thead><tbody><tr><td>&quot;2020-05-19 18:58:06&quot;</td><td>&quot;ba298cbd9be59b84bab33325e956f2…</td><td>1155</td><td>0</td><td>0</td><td>&quot;Сбор и обработка данных с помо…</td><td>&quot;Байесовские методы машинного о…</td><td>&quot;Анализ неструктурированных дан…</td><td>&quot;Конфликты и кооперация&quot;</td><td>&quot;Обучение с подкреплением&quot;</td><td>&quot;Компьютерное зрение&quot;</td><td>&quot;Да&quot;</td><td>0.507246</td><td>&quot;171&quot;</td><td>&quot;Соревновательный анализ данных&quot;</td><td>false</td><td>2</td></tr><tr><td>&quot;2020-05-18 21:35:05&quot;</td><td>&quot;a69948a1730e412eab71a4d4e70791…</td><td>663</td><td>188</td><td>0</td><td>&quot;Моделирование временных рядов&quot;</td><td>&quot;Матричные вычисления&quot;</td><td>&quot;Язык SQL&quot;</td><td>&quot;Машинное обучение 2&quot;</td><td>&quot;Дополнительные главы прикладно…</td><td>&quot;Анализ данных в бизнесе&quot;</td><td>&quot;Да&quot;</td><td>0.349776</td><td>&quot; &quot;</td><td>&quot; &quot;</td><td>false</td><td>1</td></tr><tr><td>&quot;2020-05-18 18:53:41&quot;</td><td>&quot;5ee2ad618729a6dc3bdb7f2858826e…</td><td>628</td><td>185</td><td>0</td><td>&quot;Безопасность компьютерных сист…</td><td>&quot;Язык SQL&quot;</td><td>&quot;Теория баз данных&quot;</td><td>&quot;Компьютерные сети&quot;</td><td>&quot;Промышленное программирование …</td><td>&quot;Дискретная оптимизация&quot;</td><td>&quot;Нет&quot;</td><td>0.513453</td><td>&quot; &quot;</td><td>&quot; &quot;</td><td>false</td><td>1</td></tr><tr><td>&quot;2020-05-18 20:34:07&quot;</td><td>&quot;fc2c60b8004aa91bc272df84628621…</td><td>639</td><td>183</td><td>0</td><td>&quot;Язык SQL&quot;</td><td>&quot;Сбор и обработка данных с помо…</td><td>&quot;Statistical Learning Theory&quot;</td><td>&quot;Системы баз данных&quot;</td><td>&quot;Машинное обучение 2&quot;</td><td>&quot;Анализ данных в бизнесе&quot;</td><td>&quot;Нет&quot;</td><td>0.461883</td><td>&quot; &quot;</td><td>&quot; &quot;</td><td>true</td><td>1</td></tr><tr><td>&quot;2020-05-18 17:51:56&quot;</td><td>&quot;9f23846141606a1e26e8e4c28e9a72…</td><td>527</td><td>187</td><td>0</td><td>&quot;Безопасность компьютерных сист…</td><td>&quot;Сбор и обработка данных с помо…</td><td>&quot;Язык SQL&quot;</td><td>&quot;Компьютерные сети&quot;</td><td>&quot;Промышленное программирование …</td><td>&quot;Системы баз данных&quot;</td><td>&quot;Да&quot;</td><td>0.950673</td><td>&quot; &quot;</td><td>&quot; &quot;</td><td>false</td><td>1</td></tr><tr><td>&hellip;</td><td>&hellip;</td><td>&hellip;</td><td>&hellip;</td><td>&hellip;</td><td>&hellip;</td><td>&hellip;</td><td>&hellip;</td><td>&hellip;</td><td>&hellip;</td><td>&hellip;</td><td>&hellip;</td><td>&hellip;</td><td>&hellip;</td><td>&hellip;</td><td>&hellip;</td><td>&hellip;</td></tr><tr><td>&quot;2020-05-15 16:58:06&quot;</td><td>&quot;64173586abab6f7a172946c8c74bde…</td><td>630</td><td>181</td><td>0</td><td>&quot;Безопасность компьютерных сист…</td><td>&quot;Высокопроизводительные вычисле…</td><td>&quot;Язык SQL&quot;</td><td>&quot;Компьютерные сети&quot;</td><td>&quot;Промышленное программирование …</td><td>&quot;Дискретная оптимизация&quot;</td><td>&quot;Да&quot;</td><td>0.502242</td><td>&quot; &quot;</td><td>&quot; &quot;</td><td>false</td><td>1</td></tr><tr><td>&quot;2020-05-15 13:46:31&quot;</td><td>&quot;57c331c5a1b473501d86dfd23421bb…</td><td>623</td><td>186</td><td>0</td><td>&quot;Принятие решений в условиях ри…</td><td>&quot;Моделирование временных рядов&quot;</td><td>&quot;Матричные вычисления&quot;</td><td>&quot;Анализ данных в бизнесе&quot;</td><td>&quot;Численные методы&quot;</td><td>&quot;Машинное обучение 2&quot;</td><td>&quot;Да&quot;</td><td>0.542601</td><td>&quot; &quot;</td><td>&quot; &quot;</td><td>false</td><td>1</td></tr><tr><td>&quot;2020-05-15 07:47:17&quot;</td><td>&quot;496ea4f0d4abe264b1bb1b80eb3830…</td><td>572</td><td>183</td><td>0</td><td>&quot;Высокопроизводительные вычисле…</td><td>&quot;Безопасность компьютерных сист…</td><td>&quot;Теория баз данных&quot;</td><td>&quot;Компьютерные сети&quot;</td><td>&quot;Дискретная оптимизация&quot;</td><td>&quot;Численные методы&quot;</td><td>&quot;Да&quot;</td><td>0.780269</td><td>&quot; &quot;</td><td>&quot; &quot;</td><td>false</td><td>1</td></tr><tr><td>&quot;2020-05-19 08:55:39&quot;</td><td>&quot;98c5a2548d93f26bd4195466e93178…</td><td>1035</td><td>0</td><td>0</td><td>&quot;Байесовские методы машинного о…</td><td>&quot;Глубинное обучение в обработке…</td><td>&quot;Statistical Learning Theory&quot;</td><td>&quot;Обучение с подкреплением&quot;</td><td>&quot;Генеративные модели в машинном…</td><td>&quot;Методы сжатия и передачи медиа…</td><td>&quot;Нет&quot;</td><td>0.905797</td><td>&quot;171&quot;</td><td>&quot;DevOps&quot;</td><td>false</td><td>2</td></tr><tr><td>&quot;2020-05-18 23:30:27&quot;</td><td>&quot;7bf79897c5645954846e2e03ec8038…</td><td>653</td><td>186</td><td>0</td><td>&quot;Безопасность компьютерных сист…</td><td>&quot;Язык SQL&quot;</td><td>&quot;Сбор и обработка данных с помо…</td><td>&quot;Дискретная оптимизация&quot;</td><td>&quot;Компьютерные сети&quot;</td><td>&quot;Промышленное программирование …</td><td>&quot;Да&quot;</td><td>0.399103</td><td>&quot; &quot;</td><td>&quot; &quot;</td><td>true</td><td>1</td></tr></tbody></table></div>"
            ],
            "text/plain": [
              "shape: (347, 17)\n",
              "┌────────────┬────────────┬────────┬──────────┬───┬──────────┬────────────┬────────────┬───────────┐\n",
              "│ timestamp  ┆ id         ┆ rating ┆ 18_group ┆ … ┆ 17_group ┆ blended    ┆ is_ml_stud ┆ fall_cour │\n",
              "│ ---        ┆ ---        ┆ ---    ┆ ---      ┆   ┆ ---      ┆ ---        ┆ ent        ┆ ses_count │\n",
              "│ str        ┆ str        ┆ i64    ┆ i64      ┆   ┆ str      ┆ str        ┆ ---        ┆ ---       │\n",
              "│            ┆            ┆        ┆          ┆   ┆          ┆            ┆ bool       ┆ i32       │\n",
              "╞════════════╪════════════╪════════╪══════════╪═══╪══════════╪════════════╪════════════╪═══════════╡\n",
              "│ 2020-05-19 ┆ ba298cbd9b ┆ 1155   ┆ 0        ┆ … ┆ 171      ┆ Соревноват ┆ false      ┆ 2         │\n",
              "│ 18:58:06   ┆ e59b84bab3 ┆        ┆          ┆   ┆          ┆ ельный     ┆            ┆           │\n",
              "│            ┆ 3325e956f2 ┆        ┆          ┆   ┆          ┆ анализ     ┆            ┆           │\n",
              "│            ┆ …          ┆        ┆          ┆   ┆          ┆ данных     ┆            ┆           │\n",
              "│ 2020-05-18 ┆ a69948a173 ┆ 663    ┆ 188      ┆ … ┆          ┆            ┆ false      ┆ 1         │\n",
              "│ 21:35:05   ┆ 0e412eab71 ┆        ┆          ┆   ┆          ┆            ┆            ┆           │\n",
              "│            ┆ a4d4e70791 ┆        ┆          ┆   ┆          ┆            ┆            ┆           │\n",
              "│            ┆ …          ┆        ┆          ┆   ┆          ┆            ┆            ┆           │\n",
              "│ 2020-05-18 ┆ 5ee2ad6187 ┆ 628    ┆ 185      ┆ … ┆          ┆            ┆ false      ┆ 1         │\n",
              "│ 18:53:41   ┆ 29a6dc3bdb ┆        ┆          ┆   ┆          ┆            ┆            ┆           │\n",
              "│            ┆ 7f2858826e ┆        ┆          ┆   ┆          ┆            ┆            ┆           │\n",
              "│            ┆ …          ┆        ┆          ┆   ┆          ┆            ┆            ┆           │\n",
              "│ 2020-05-18 ┆ fc2c60b800 ┆ 639    ┆ 183      ┆ … ┆          ┆            ┆ true       ┆ 1         │\n",
              "│ 20:34:07   ┆ 4aa91bc272 ┆        ┆          ┆   ┆          ┆            ┆            ┆           │\n",
              "│            ┆ df84628621 ┆        ┆          ┆   ┆          ┆            ┆            ┆           │\n",
              "│            ┆ …          ┆        ┆          ┆   ┆          ┆            ┆            ┆           │\n",
              "│ 2020-05-18 ┆ 9f23846141 ┆ 527    ┆ 187      ┆ … ┆          ┆            ┆ false      ┆ 1         │\n",
              "│ 17:51:56   ┆ 606a1e26e8 ┆        ┆          ┆   ┆          ┆            ┆            ┆           │\n",
              "│            ┆ e4c28e9a72 ┆        ┆          ┆   ┆          ┆            ┆            ┆           │\n",
              "│            ┆ …          ┆        ┆          ┆   ┆          ┆            ┆            ┆           │\n",
              "│ …          ┆ …          ┆ …      ┆ …        ┆ … ┆ …        ┆ …          ┆ …          ┆ …         │\n",
              "│ 2020-05-15 ┆ 64173586ab ┆ 630    ┆ 181      ┆ … ┆          ┆            ┆ false      ┆ 1         │\n",
              "│ 16:58:06   ┆ ab6f7a1729 ┆        ┆          ┆   ┆          ┆            ┆            ┆           │\n",
              "│            ┆ 46c8c74bde ┆        ┆          ┆   ┆          ┆            ┆            ┆           │\n",
              "│            ┆ …          ┆        ┆          ┆   ┆          ┆            ┆            ┆           │\n",
              "│ 2020-05-15 ┆ 57c331c5a1 ┆ 623    ┆ 186      ┆ … ┆          ┆            ┆ false      ┆ 1         │\n",
              "│ 13:46:31   ┆ b473501d86 ┆        ┆          ┆   ┆          ┆            ┆            ┆           │\n",
              "│            ┆ dfd23421bb ┆        ┆          ┆   ┆          ┆            ┆            ┆           │\n",
              "│            ┆ …          ┆        ┆          ┆   ┆          ┆            ┆            ┆           │\n",
              "│ 2020-05-15 ┆ 496ea4f0d4 ┆ 572    ┆ 183      ┆ … ┆          ┆            ┆ false      ┆ 1         │\n",
              "│ 07:47:17   ┆ abe264b1bb ┆        ┆          ┆   ┆          ┆            ┆            ┆           │\n",
              "│            ┆ 1b80eb3830 ┆        ┆          ┆   ┆          ┆            ┆            ┆           │\n",
              "│            ┆ …          ┆        ┆          ┆   ┆          ┆            ┆            ┆           │\n",
              "│ 2020-05-19 ┆ 98c5a2548d ┆ 1035   ┆ 0        ┆ … ┆ 171      ┆ DevOps     ┆ false      ┆ 2         │\n",
              "│ 08:55:39   ┆ 93f26bd419 ┆        ┆          ┆   ┆          ┆            ┆            ┆           │\n",
              "│            ┆ 5466e93178 ┆        ┆          ┆   ┆          ┆            ┆            ┆           │\n",
              "│            ┆ …          ┆        ┆          ┆   ┆          ┆            ┆            ┆           │\n",
              "│ 2020-05-18 ┆ 7bf79897c5 ┆ 653    ┆ 186      ┆ … ┆          ┆            ┆ true       ┆ 1         │\n",
              "│ 23:30:27   ┆ 645954846e ┆        ┆          ┆   ┆          ┆            ┆            ┆           │\n",
              "│            ┆ 2e03ec8038 ┆        ┆          ┆   ┆          ┆            ┆            ┆           │\n",
              "│            ┆ …          ┆        ┆          ┆   ┆          ┆            ┆            ┆           │\n",
              "└────────────┴────────────┴────────┴──────────┴───┴──────────┴────────────┴────────────┴───────────┘"
            ]
          },
          "metadata": {},
          "output_type": "display_data"
        }
      ],
      "source": [
        "display(df)"
      ]
    },
    {
      "cell_type": "markdown",
      "metadata": {
        "id": "kty-lzOJ3JKv"
      },
      "source": [
        "#### 2. [2 балла] Распределите студентов в соответствии с первым приоритетом"
      ]
    },
    {
      "cell_type": "code",
      "execution_count": 58,
      "metadata": {
        "colab": {
          "base_uri": "https://localhost:8080/",
          "height": 465
        },
        "id": "Fk0RzwOJuU0a",
        "outputId": "a239bf41-026b-4534-d9f4-c806a6cefd53"
      },
      "outputs": [
        {
          "name": "stderr",
          "output_type": "stream",
          "text": [
            "<ipython-input-58-13be5cff542b>:4: DeprecationWarning: `DataFrame.melt` is deprecated. Use `unpivot` instead, with `index` instead of `id_vars` and `on` instead of `value_vars`\n",
            "  all_courses_17 = set(year_17.select(columns).unique().melt().get_column(\"value\").to_list())\n",
            "<ipython-input-58-13be5cff542b>:5: DeprecationWarning: `DataFrame.melt` is deprecated. Use `unpivot` instead, with `index` instead of `id_vars` and `on` instead of `value_vars`\n",
            "  all_courses_18 = set(year_17.select(columns).unique().melt().get_column(\"value\").to_list())\n"
          ]
        },
        {
          "data": {
            "text/html": [
              "<div><style>\n",
              ".dataframe > thead > tr,\n",
              ".dataframe > tbody > tr {\n",
              "  text-align: right;\n",
              "  white-space: pre-wrap;\n",
              "}\n",
              "</style>\n",
              "<small>shape: (10, 4)</small><table border=\"1\" class=\"dataframe\"><thead><tr><th>id</th><th>percentile</th><th>course1</th><th>course2</th></tr><tr><td>str</td><td>f64</td><td>str</td><td>str</td></tr></thead><tbody><tr><td>&quot;ba298cbd9be59b84bab33325e956f2…</td><td>0.507246</td><td>&quot;Анализ неструктурированных дан…</td><td>&quot;Анализ неструктурированных дан…</td></tr><tr><td>&quot;a69948a1730e412eab71a4d4e70791…</td><td>0.349776</td><td>&quot;Сбор и обработка данных с помо…</td><td>&quot;Сбор и обработка данных с помо…</td></tr><tr><td>&quot;5ee2ad618729a6dc3bdb7f2858826e…</td><td>0.513453</td><td>&quot;Анализ неструктурированных дан…</td><td>&quot;Анализ неструктурированных дан…</td></tr><tr><td>&quot;fc2c60b8004aa91bc272df84628621…</td><td>0.461883</td><td>&quot;Анализ неструктурированных дан…</td><td>&quot;Анализ неструктурированных дан…</td></tr><tr><td>&quot;9f23846141606a1e26e8e4c28e9a72…</td><td>0.950673</td><td>&quot;Безопасность компьютерных сист…</td><td>&quot;Безопасность компьютерных сист…</td></tr><tr><td>&quot;d9c068e5578253c2b0721558dd0813…</td><td>0.807971</td><td>&quot;Statistical Learning Theory&quot;</td><td>&quot;Statistical Learning Theory&quot;</td></tr><tr><td>&quot;c7544f6c00a5164efdef675410d62e…</td><td>0.713004</td><td>&quot;Байесовские методы машинного о…</td><td>&quot;Байесовские методы машинного о…</td></tr><tr><td>&quot;fc833a2815fa010d53b0047244438d…</td><td>0.144928</td><td>&quot;Принятие решений в условиях ри…</td><td>&quot;Принятие решений в условиях ри…</td></tr><tr><td>&quot;d08d06bc5d31e35616fafc59de6f2e…</td><td>0.219731</td><td>&quot;Высокопроизводительные вычисле…</td><td>&quot;Высокопроизводительные вычисле…</td></tr><tr><td>&quot;2826fc94cd575c8f7b0a2416506e70…</td><td>0.587444</td><td>&quot;Моделирование временных рядов&quot;</td><td>&quot;Моделирование временных рядов&quot;</td></tr></tbody></table></div>"
            ],
            "text/plain": [
              "shape: (10, 4)\n",
              "┌────────────────────────────┬────────────┬────────────────────────────┬───────────────────────────┐\n",
              "│ id                         ┆ percentile ┆ course1                    ┆ course2                   │\n",
              "│ ---                        ┆ ---        ┆ ---                        ┆ ---                       │\n",
              "│ str                        ┆ f64        ┆ str                        ┆ str                       │\n",
              "╞════════════════════════════╪════════════╪════════════════════════════╪═══════════════════════════╡\n",
              "│ ba298cbd9be59b84bab33325e9 ┆ 0.507246   ┆ Анализ неструктурированных ┆ Анализ                    │\n",
              "│ 56f2…                      ┆            ┆ дан…                       ┆ неструктурированных дан…  │\n",
              "│ a69948a1730e412eab71a4d4e7 ┆ 0.349776   ┆ Сбор и обработка данных с  ┆ Сбор и обработка данных с │\n",
              "│ 0791…                      ┆            ┆ помо…                      ┆ помо…                     │\n",
              "│ 5ee2ad618729a6dc3bdb7f2858 ┆ 0.513453   ┆ Анализ неструктурированных ┆ Анализ                    │\n",
              "│ 826e…                      ┆            ┆ дан…                       ┆ неструктурированных дан…  │\n",
              "│ fc2c60b8004aa91bc272df8462 ┆ 0.461883   ┆ Анализ неструктурированных ┆ Анализ                    │\n",
              "│ 8621…                      ┆            ┆ дан…                       ┆ неструктурированных дан…  │\n",
              "│ 9f23846141606a1e26e8e4c28e ┆ 0.950673   ┆ Безопасность компьютерных  ┆ Безопасность компьютерных │\n",
              "│ 9a72…                      ┆            ┆ сист…                      ┆ сист…                     │\n",
              "│ d9c068e5578253c2b0721558dd ┆ 0.807971   ┆ Statistical Learning       ┆ Statistical Learning      │\n",
              "│ 0813…                      ┆            ┆ Theory                     ┆ Theory                    │\n",
              "│ c7544f6c00a5164efdef675410 ┆ 0.713004   ┆ Байесовские методы         ┆ Байесовские методы        │\n",
              "│ d62e…                      ┆            ┆ машинного о…               ┆ машинного о…              │\n",
              "│ fc833a2815fa010d53b0047244 ┆ 0.144928   ┆ Принятие решений в         ┆ Принятие решений в        │\n",
              "│ 438d…                      ┆            ┆ условиях ри…               ┆ условиях ри…              │\n",
              "│ d08d06bc5d31e35616fafc59de ┆ 0.219731   ┆ Высокопроизводительные     ┆ Высокопроизводительные    │\n",
              "│ 6f2e…                      ┆            ┆ вычисле…                   ┆ вычисле…                  │\n",
              "│ 2826fc94cd575c8f7b0a241650 ┆ 0.587444   ┆ Моделирование временных    ┆ Моделирование временных   │\n",
              "│ 6e70…                      ┆            ┆ рядов                      ┆ рядов                     │\n",
              "└────────────────────────────┴────────────┴────────────────────────────┴───────────────────────────┘"
            ]
          },
          "execution_count": 58,
          "metadata": {},
          "output_type": "execute_result"
        }
      ],
      "source": [
        "bigger_courses = [\"Statistical Learning Theory\", \"Высокопроизводительных вычислений\", \"Анализ неструктурированных данных\"]\n",
        "\n",
        "columns = [\"fall_1\", \"fall_2\", \"fall_3\"]\n",
        "all_courses_17 = set(year_17.select(columns).unique().melt().get_column(\"value\").to_list())\n",
        "all_courses_18 = set(year_17.select(columns).unique().melt().get_column(\"value\").to_list())\n",
        "\n",
        "all_courses = all_courses_17.copy()\n",
        "all_courses.update(all_courses_18)\n",
        "\n",
        "ids = df.get_column('id').to_list()\n",
        "percentiles = df.get_column('percentile').to_list()\n",
        "\n",
        "def start_wave(df_wave: pl.DataFrame, autumn: bool, cur_wave: int):\n",
        "    one_course = df_wave.filter(pl.col(\"course2\") == \"???\").select(pl.col(\"id\")).to_series().to_list()\n",
        "    two_courses = df_wave.filter(pl.col(\"course2\") != \"???\").select(pl.col(\"id\")).to_series().to_list()\n",
        "\n",
        "    percentile_map = pl.DataFrame({\"id\": ids, \"percentile\": percentiles})\n",
        "\n",
        "    for course in all_courses:\n",
        "        if course in bigger_courses:\n",
        "          places = 60\n",
        "        else:\n",
        "          places = 30\n",
        "\n",
        "        if columns[cur_wave] in ['fall_1']:\n",
        "          students_to_enroll = df_wave.filter((pl.col(\"id\").is_in(one_course) | pl.col(\"id\").is_in(two_courses)) & (pl.col(\"course1\") == \"???\")).select(pl.col(\"id\")).to_series().to_list()\n",
        "        elif columns[cur_wave] in ['fall_2']:\n",
        "            students_to_enroll = df_wave.filter((pl.col(\"id\").is_in(two_courses) & (pl.col(\"course2\") == \"???\"))).select(pl.col(\"id\")).to_series().to_list()\n",
        "        else:\n",
        "            students_to_enroll = df_wave.filter(pl.col(\"course1\") == \"???\").select(pl.col(\"id\")).to_series().to_list()\n",
        "\n",
        "        df_rating = percentile_map.filter(pl.col(\"id\").is_in(students_to_enroll))\n",
        "        df_rating = df_rating.sort(\"percentile\", descending=True).head(places)\n",
        "        enrolled_ids = df_rating.select(pl.col(\"id\")).to_series().to_list()\n",
        "\n",
        "        df_wave = df_wave.with_columns(pl.when(pl.col(\"id\").is_in(enrolled_ids)).then(pl.lit(course)).otherwise(pl.col(\"course1\")).alias(\"course1\"),\n",
        "                                       pl.when(pl.col(\"id\").is_in(enrolled_ids)).then(pl.lit(course)) .otherwise(pl.col(\"course2\")).alias(\"course2\"))\n",
        "\n",
        "    return df_wave\n",
        "\n",
        "df_wave_1 = pl.DataFrame({\"id\": ids, \"percentile\": percentiles, \"course1\": [\"???\"] * len(ids), \"course2\": [\"???\"] * len(ids)})\n",
        "\n",
        "df_wave_1 = start_wave(df_wave_1, autumn=True, cur_wave=0)\n",
        "df_wave_1.head(10)"
      ]
    },
    {
      "cell_type": "markdown",
      "metadata": {
        "id": "YtFzmI0q3JKv"
      },
      "source": [
        "Здесь для проверки приведена таблица, в которой есть 2 дополнительные колонки:\n",
        "    \n",
        "    1) is_first_place - является ли студент лучшим по перцентили хотя бы на одном из курсов, куда он был зачислен\n",
        "    (True / NaN)\n",
        "    \n",
        "    2) is_last_place  - является ли студент худшим по перцентили хотя бы на одном из курсов, куда он был зачислен (True / NaN)"
      ]
    },
    {
      "cell_type": "code",
      "execution_count": 64,
      "metadata": {
        "id": "Fdmh053Y3JKw"
      },
      "outputs": [],
      "source": [
        "!wget  -O '2_task_check.csv' -q 'https://www.dropbox.com/s/v8o2zzq3iz5gc9w/_2_task_check.csv?dl=0'\n",
        "check_df = pl.read_csv('2_task_check.csv')"
      ]
    },
    {
      "cell_type": "code",
      "execution_count": null,
      "metadata": {
        "colab": {
          "base_uri": "https://localhost:8080/"
        },
        "id": "MlnV8964UUT-",
        "outputId": "8c538705-de4e-43b0-f687-cbfd8e3f0443"
      },
      "outputs": [
        {
          "data": {
            "text/plain": [
              "(347, 18)"
            ]
          },
          "execution_count": 31,
          "metadata": {},
          "output_type": "execute_result"
        }
      ],
      "source": [
        "check_df.shape"
      ]
    }
  ],
  "metadata": {
    "colab": {
      "provenance": []
    },
    "kernelspec": {
      "display_name": "Python 3",
      "language": "python",
      "name": "python3"
    },
    "language_info": {
      "codemirror_mode": {
        "name": "ipython",
        "version": 3
      },
      "file_extension": ".py",
      "mimetype": "text/x-python",
      "name": "python",
      "nbconvert_exporter": "python",
      "pygments_lexer": "ipython3",
      "version": "3.10.13"
    }
  },
  "nbformat": 4,
  "nbformat_minor": 0
}
